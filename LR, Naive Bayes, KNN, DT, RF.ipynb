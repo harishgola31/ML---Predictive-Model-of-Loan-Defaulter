{
 "cells": [
  {
   "cell_type": "code",
   "execution_count": 1,
   "metadata": {},
   "outputs": [],
   "source": [
    "import numpy as np\n",
    "import pandas as pd"
   ]
  },
  {
   "cell_type": "code",
   "execution_count": 2,
   "metadata": {},
   "outputs": [
    {
     "name": "stderr",
     "output_type": "stream",
     "text": [
      "C:\\Users\\Gola\\Anaconda3\\lib\\site-packages\\IPython\\core\\interactiveshell.py:3063: DtypeWarning: Columns (1,7,8,16,17,18,19,20,35) have mixed types.Specify dtype option on import or set low_memory=False.\n",
      "  interactivity=interactivity, compiler=compiler, result=result)\n",
      "C:\\Users\\Gola\\Anaconda3\\lib\\site-packages\\IPython\\core\\interactiveshell.py:3063: DtypeWarning: Columns (7,8,16,17,18,19,20,34,35) have mixed types.Specify dtype option on import or set low_memory=False.\n",
      "  interactivity=interactivity, compiler=compiler, result=result)\n"
     ]
    }
   ],
   "source": [
    "train = pd.read_csv('Train_Dataset.csv')\n",
    "test = pd.read_csv('Test_Dataset.csv')"
   ]
  },
  {
   "cell_type": "code",
   "execution_count": 3,
   "metadata": {},
   "outputs": [
    {
     "data": {
      "text/plain": [
       "ID                             0.000000\n",
       "Client_Income                  2.960051\n",
       "Car_Owned                      2.938715\n",
       "Bike_Owned                     2.974002\n",
       "Active_Loan                    2.983029\n",
       "House_Own                      3.004366\n",
       "Child_Count                    2.985491\n",
       "Credit_Amount                  2.980567\n",
       "Loan_Annuity                   3.948923\n",
       "Accompany_Client               1.432839\n",
       "Client_Income_Type             3.037191\n",
       "Client_Education               2.991236\n",
       "Client_Marital_Status          2.850085\n",
       "Client_Gender                  1.980206\n",
       "Loan_Contract_Type             2.996159\n",
       "Client_Housing_Type            3.025702\n",
       "Population_Region_Relative     3.985852\n",
       "Age_Days                       2.954307\n",
       "Employed_Days                  2.994518\n",
       "Registration_Days              2.965796\n",
       "ID_Days                        4.897584\n",
       "Own_House_Age                 65.729221\n",
       "Mobile_Tag                     0.000000\n",
       "Homephone_Tag                  0.000000\n",
       "Workphone_Working              0.000000\n",
       "Client_Occupation             34.003250\n",
       "Client_Family_Members          1.977744\n",
       "Cleint_City_Rating             1.976924\n",
       "Application_Process_Day        1.992516\n",
       "Application_Process_Hour       3.006007\n",
       "Client_Permanent_Match_Tag     0.000000\n",
       "Client_Contact_Work_Tag        0.000000\n",
       "Type_Organization              2.961692\n",
       "Score_Source_1                56.488806\n",
       "Score_Source_2                 4.666163\n",
       "Score_Source_3                22.092470\n",
       "Social_Circle_Default         50.820641\n",
       "Phone_Change                   3.006828\n",
       "Credit_Bureau                 15.214680\n",
       "Default                        0.000000\n",
       "dtype: float64"
      ]
     },
     "execution_count": 3,
     "metadata": {},
     "output_type": "execute_result"
    }
   ],
   "source": [
    "train.isna().sum()/len(train)*100"
   ]
  },
  {
   "cell_type": "code",
   "execution_count": 4,
   "metadata": {},
   "outputs": [
    {
     "data": {
      "text/plain": [
       "ID                             0.000000\n",
       "Client_Income                  3.008653\n",
       "Car_Owned                      2.972806\n",
       "Bike_Owned                     3.072930\n",
       "Active_Loan                    3.033375\n",
       "House_Own                      2.901112\n",
       "Child_Count                    2.877627\n",
       "Credit_Amount                  2.826947\n",
       "Loan_Annuity                   3.959209\n",
       "Accompany_Client               1.493201\n",
       "Client_Income_Type             3.091471\n",
       "Client_Education               2.904821\n",
       "Client_Marital_Status          3.019778\n",
       "Client_Gender                  2.011125\n",
       "Loan_Contract_Type             2.868974\n",
       "Client_Housing_Type            2.976514\n",
       "Population_Region_Relative     4.042027\n",
       "Age_Days                       3.064277\n",
       "Employed_Days                  2.992583\n",
       "Registration_Days              2.964153\n",
       "ID_Days                        4.797281\n",
       "Own_House_Age                 66.231150\n",
       "Mobile_Tag                     0.000000\n",
       "Homephone_Tag                  0.000000\n",
       "Workphone_Working              0.000000\n",
       "Client_Occupation             34.419036\n",
       "Client_Family_Members          2.032138\n",
       "Cleint_City_Rating             2.016069\n",
       "Application_Process_Day        1.902349\n",
       "Application_Process_Hour       2.974042\n",
       "Client_Permanent_Match_Tag     0.000000\n",
       "Client_Contact_Work_Tag        0.000000\n",
       "Type_Organization              3.039555\n",
       "Score_Source_1                56.233622\n",
       "Score_Source_2                 4.592089\n",
       "Score_Source_3                22.271941\n",
       "Social_Circle_Default         50.791100\n",
       "Phone_Change                   2.995056\n",
       "Credit_Bureau                 15.181706\n",
       "dtype: float64"
      ]
     },
     "execution_count": 4,
     "metadata": {},
     "output_type": "execute_result"
    }
   ],
   "source": [
    "test.isna().sum()/len(test)*100"
   ]
  },
  {
   "cell_type": "code",
   "execution_count": 5,
   "metadata": {},
   "outputs": [],
   "source": [
    "# Data Preprocesssing"
   ]
  },
  {
   "cell_type": "code",
   "execution_count": 6,
   "metadata": {},
   "outputs": [],
   "source": [
    "# Filling Null Values"
   ]
  },
  {
   "cell_type": "code",
   "execution_count": 7,
   "metadata": {},
   "outputs": [],
   "source": [
    "# we will drop those features having null values greater than 30%\n",
    "missing_train_val_per = train.isna().sum()/len(train)*100\n",
    "missing_test_val_per = test.isna().sum()/len(train)*100"
   ]
  },
  {
   "cell_type": "code",
   "execution_count": 8,
   "metadata": {},
   "outputs": [],
   "source": [
    "train.drop(missing_train_val_per[missing_train_val_per > 30].index,1,inplace = True)\n",
    "test.drop(missing_test_val_per[missing_test_val_per > 30].index,1,inplace = True)"
   ]
  },
  {
   "cell_type": "code",
   "execution_count": 9,
   "metadata": {},
   "outputs": [],
   "source": [
    "# Now we seoerate features into numerical and categorical"
   ]
  },
  {
   "cell_type": "code",
   "execution_count": 10,
   "metadata": {},
   "outputs": [],
   "source": [
    "train_num_data = train[['ID','Client_Income','Credit_Amount','Loan_Annuity','Population_Region_Relative','Age_Days',\n",
    "                      'Employed_Days','Registration_Days','ID_Days','Score_Source_2','Score_Source_3','Phone_Change']]\n",
    "train_cat_data = train[['Car_Owned','Bike_Owned','Active_Loan','House_Own', 'Child_Count','Accompany_Client', 'Client_Income_Type',\n",
    "                      'Client_Education','Client_Marital_Status', 'Client_Gender', 'Loan_Contract_Type','Client_Housing_Type','Mobile_Tag',\n",
    "                      'Homephone_Tag','Workphone_Working', 'Client_Family_Members','Cleint_City_Rating', 'Application_Process_Day',\n",
    "                      'Application_Process_Hour','Client_Permanent_Match_Tag','Client_Contact_Work_Tag', 'Type_Organization',\n",
    "                      'Credit_Bureau', 'Default']]"
   ]
  },
  {
   "cell_type": "code",
   "execution_count": 11,
   "metadata": {},
   "outputs": [],
   "source": [
    "test_num_data = test[['ID','Client_Income','Credit_Amount','Loan_Annuity','Population_Region_Relative','Age_Days',\n",
    "                      'Employed_Days','Registration_Days','ID_Days','Score_Source_2','Score_Source_3','Phone_Change']]\n",
    "test_cat_data = test[['Car_Owned','Bike_Owned','Active_Loan','House_Own', 'Child_Count','Accompany_Client', 'Client_Income_Type',\n",
    "                      'Client_Education','Client_Marital_Status', 'Client_Gender', 'Loan_Contract_Type','Client_Housing_Type','Mobile_Tag',\n",
    "                      'Homephone_Tag','Workphone_Working', 'Client_Family_Members','Cleint_City_Rating', 'Application_Process_Day',\n",
    "                      'Application_Process_Hour','Client_Permanent_Match_Tag','Client_Contact_Work_Tag', 'Type_Organization',\n",
    "                      'Credit_Bureau',]]"
   ]
  },
  {
   "cell_type": "code",
   "execution_count": 12,
   "metadata": {},
   "outputs": [
    {
     "data": {
      "text/plain": [
       "((121856, 24), (121856, 12), (80900, 23), (80900, 12))"
      ]
     },
     "execution_count": 12,
     "metadata": {},
     "output_type": "execute_result"
    }
   ],
   "source": [
    "train_cat_data.shape,train_num_data.shape,test_cat_data.shape,test_num_data.shape"
   ]
  },
  {
   "cell_type": "code",
   "execution_count": 13,
   "metadata": {},
   "outputs": [
    {
     "data": {
      "text/html": [
       "<div>\n",
       "<style scoped>\n",
       "    .dataframe tbody tr th:only-of-type {\n",
       "        vertical-align: middle;\n",
       "    }\n",
       "\n",
       "    .dataframe tbody tr th {\n",
       "        vertical-align: top;\n",
       "    }\n",
       "\n",
       "    .dataframe thead th {\n",
       "        text-align: right;\n",
       "    }\n",
       "</style>\n",
       "<table border=\"1\" class=\"dataframe\">\n",
       "  <thead>\n",
       "    <tr style=\"text-align: right;\">\n",
       "      <th></th>\n",
       "      <th>ID</th>\n",
       "      <th>Client_Income</th>\n",
       "      <th>Credit_Amount</th>\n",
       "      <th>Loan_Annuity</th>\n",
       "      <th>Population_Region_Relative</th>\n",
       "      <th>Age_Days</th>\n",
       "      <th>Employed_Days</th>\n",
       "      <th>Registration_Days</th>\n",
       "      <th>ID_Days</th>\n",
       "      <th>Score_Source_2</th>\n",
       "      <th>Score_Source_3</th>\n",
       "      <th>Phone_Change</th>\n",
       "    </tr>\n",
       "  </thead>\n",
       "  <tbody>\n",
       "    <tr>\n",
       "      <th>0</th>\n",
       "      <td>12142509</td>\n",
       "      <td>6750</td>\n",
       "      <td>61190.55</td>\n",
       "      <td>3416.85</td>\n",
       "      <td>0.028663</td>\n",
       "      <td>13957</td>\n",
       "      <td>1062</td>\n",
       "      <td>6123</td>\n",
       "      <td>383</td>\n",
       "      <td>0.478787</td>\n",
       "      <td>NaN</td>\n",
       "      <td>63.0</td>\n",
       "    </tr>\n",
       "    <tr>\n",
       "      <th>1</th>\n",
       "      <td>12138936</td>\n",
       "      <td>20250</td>\n",
       "      <td>15282</td>\n",
       "      <td>1826.55</td>\n",
       "      <td>0.008575</td>\n",
       "      <td>14162</td>\n",
       "      <td>4129</td>\n",
       "      <td>7833</td>\n",
       "      <td>21</td>\n",
       "      <td>0.215068</td>\n",
       "      <td>NaN</td>\n",
       "      <td>NaN</td>\n",
       "    </tr>\n",
       "  </tbody>\n",
       "</table>\n",
       "</div>"
      ],
      "text/plain": [
       "         ID Client_Income Credit_Amount Loan_Annuity  \\\n",
       "0  12142509          6750      61190.55      3416.85   \n",
       "1  12138936         20250         15282      1826.55   \n",
       "\n",
       "  Population_Region_Relative Age_Days Employed_Days Registration_Days ID_Days  \\\n",
       "0                   0.028663    13957          1062              6123     383   \n",
       "1                   0.008575    14162          4129              7833      21   \n",
       "\n",
       "   Score_Source_2 Score_Source_3  Phone_Change  \n",
       "0        0.478787            NaN          63.0  \n",
       "1        0.215068            NaN           NaN  "
      ]
     },
     "execution_count": 13,
     "metadata": {},
     "output_type": "execute_result"
    }
   ],
   "source": [
    "train_num_data.head(2)"
   ]
  },
  {
   "cell_type": "code",
   "execution_count": 14,
   "metadata": {},
   "outputs": [],
   "source": [
    "train_num_data = train_num_data.replace('$',np.nan)\n",
    "train_num_data = train_num_data.replace('#VALUE!',np.nan)\n",
    "train_num_data = train_num_data.replace('@',np.nan)\n",
    "train_num_data = train_num_data.replace('#',np.nan)\n",
    "train_num_data = train_num_data.replace('x',np.nan)\n",
    "train_num_data = train_num_data.replace('&',np.nan)"
   ]
  },
  {
   "cell_type": "code",
   "execution_count": 15,
   "metadata": {},
   "outputs": [],
   "source": [
    "test_num_data = test_num_data.replace('$',np.nan)\n",
    "test_num_data = test_num_data.replace('#VALUE!',np.nan)\n",
    "test_num_data = test_num_data.replace('@',np.nan)\n",
    "test_num_data = test_num_data.replace('#',np.nan)\n",
    "test_num_data = test_num_data.replace('x',np.nan)\n",
    "test_num_data = test_num_data.replace('&',np.nan)"
   ]
  },
  {
   "cell_type": "code",
   "execution_count": 16,
   "metadata": {},
   "outputs": [],
   "source": [
    "train_num_data.ID = train_num_data.ID.astype('int64')\n",
    "for i in train_num_data.drop('ID',1):\n",
    "    train_num_data[i] = train_num_data[i].astype('float64')"
   ]
  },
  {
   "cell_type": "code",
   "execution_count": 17,
   "metadata": {},
   "outputs": [],
   "source": [
    "test_num_data.ID = test_num_data.ID.astype('int64')\n",
    "for i in test_num_data.drop('ID',1):\n",
    "    test_num_data[i] = test_num_data[i].astype('float64')"
   ]
  },
  {
   "cell_type": "code",
   "execution_count": 18,
   "metadata": {},
   "outputs": [
    {
     "name": "stdout",
     "output_type": "stream",
     "text": [
      "<class 'pandas.core.frame.DataFrame'>\n",
      "RangeIndex: 121856 entries, 0 to 121855\n",
      "Data columns (total 12 columns):\n",
      " #   Column                      Non-Null Count   Dtype  \n",
      "---  ------                      --------------   -----  \n",
      " 0   ID                          121856 non-null  int64  \n",
      " 1   Client_Income               118234 non-null  float64\n",
      " 2   Credit_Amount               118219 non-null  float64\n",
      " 3   Loan_Annuity                117030 non-null  float64\n",
      " 4   Population_Region_Relative  116988 non-null  float64\n",
      " 5   Age_Days                    118239 non-null  float64\n",
      " 6   Employed_Days               118190 non-null  float64\n",
      " 7   Registration_Days           118225 non-null  float64\n",
      " 8   ID_Days                     115871 non-null  float64\n",
      " 9   Score_Source_2              116170 non-null  float64\n",
      " 10  Score_Source_3              94934 non-null   float64\n",
      " 11  Phone_Change                118192 non-null  float64\n",
      "dtypes: float64(11), int64(1)\n",
      "memory usage: 11.2 MB\n"
     ]
    }
   ],
   "source": [
    "train_num_data.info()"
   ]
  },
  {
   "cell_type": "code",
   "execution_count": 19,
   "metadata": {},
   "outputs": [
    {
     "data": {
      "text/plain": [
       "ID                             0.000000\n",
       "Client_Income                  2.972361\n",
       "Credit_Amount                  2.984670\n",
       "Loan_Annuity                   3.960412\n",
       "Population_Region_Relative     3.994879\n",
       "Age_Days                       2.968258\n",
       "Employed_Days                  3.008469\n",
       "Registration_Days              2.979747\n",
       "ID_Days                        4.911535\n",
       "Score_Source_2                 4.666163\n",
       "Score_Source_3                22.093290\n",
       "Phone_Change                   3.006828\n",
       "dtype: float64"
      ]
     },
     "execution_count": 19,
     "metadata": {},
     "output_type": "execute_result"
    }
   ],
   "source": [
    "train_num_data.isna().sum()/len(train)*100"
   ]
  },
  {
   "cell_type": "code",
   "execution_count": 20,
   "metadata": {},
   "outputs": [],
   "source": [
    "for i in train_num_data.columns:\n",
    "    train_num_data[i] = train_num_data[i].fillna(train_num_data[i].mean())"
   ]
  },
  {
   "cell_type": "code",
   "execution_count": 21,
   "metadata": {},
   "outputs": [],
   "source": [
    "for i in test_num_data.columns:\n",
    "    test_num_data[i] = test_num_data[i].fillna(test_num_data[i].mean())"
   ]
  },
  {
   "cell_type": "code",
   "execution_count": 22,
   "metadata": {},
   "outputs": [
    {
     "data": {
      "text/plain": [
       "ID                            0.0\n",
       "Client_Income                 0.0\n",
       "Credit_Amount                 0.0\n",
       "Loan_Annuity                  0.0\n",
       "Population_Region_Relative    0.0\n",
       "Age_Days                      0.0\n",
       "Employed_Days                 0.0\n",
       "Registration_Days             0.0\n",
       "ID_Days                       0.0\n",
       "Score_Source_2                0.0\n",
       "Score_Source_3                0.0\n",
       "Phone_Change                  0.0\n",
       "dtype: float64"
      ]
     },
     "execution_count": 22,
     "metadata": {},
     "output_type": "execute_result"
    }
   ],
   "source": [
    "train_num_data.isna().sum()/len(train)*100"
   ]
  },
  {
   "cell_type": "code",
   "execution_count": 23,
   "metadata": {},
   "outputs": [
    {
     "data": {
      "text/plain": [
       "ID                            0.0\n",
       "Client_Income                 0.0\n",
       "Credit_Amount                 0.0\n",
       "Loan_Annuity                  0.0\n",
       "Population_Region_Relative    0.0\n",
       "Age_Days                      0.0\n",
       "Employed_Days                 0.0\n",
       "Registration_Days             0.0\n",
       "ID_Days                       0.0\n",
       "Score_Source_2                0.0\n",
       "Score_Source_3                0.0\n",
       "Phone_Change                  0.0\n",
       "dtype: float64"
      ]
     },
     "execution_count": 23,
     "metadata": {},
     "output_type": "execute_result"
    }
   ],
   "source": [
    "test_num_data.isna().sum()/len(test)*100"
   ]
  },
  {
   "cell_type": "code",
   "execution_count": 24,
   "metadata": {},
   "outputs": [
    {
     "data": {
      "text/html": [
       "<div>\n",
       "<style scoped>\n",
       "    .dataframe tbody tr th:only-of-type {\n",
       "        vertical-align: middle;\n",
       "    }\n",
       "\n",
       "    .dataframe tbody tr th {\n",
       "        vertical-align: top;\n",
       "    }\n",
       "\n",
       "    .dataframe thead th {\n",
       "        text-align: right;\n",
       "    }\n",
       "</style>\n",
       "<table border=\"1\" class=\"dataframe\">\n",
       "  <thead>\n",
       "    <tr style=\"text-align: right;\">\n",
       "      <th></th>\n",
       "      <th>Client_Income</th>\n",
       "      <th>Credit_Amount</th>\n",
       "      <th>Loan_Annuity</th>\n",
       "      <th>Population_Region_Relative</th>\n",
       "      <th>Age_Days</th>\n",
       "      <th>Employed_Days</th>\n",
       "      <th>Registration_Days</th>\n",
       "      <th>ID_Days</th>\n",
       "      <th>Score_Source_2</th>\n",
       "      <th>Score_Source_3</th>\n",
       "      <th>Phone_Change</th>\n",
       "    </tr>\n",
       "  </thead>\n",
       "  <tbody>\n",
       "    <tr>\n",
       "      <th>0</th>\n",
       "      <td>-0.890004</td>\n",
       "      <td>0.028786</td>\n",
       "      <td>0.485674</td>\n",
       "      <td>0.014954</td>\n",
       "      <td>-0.481376</td>\n",
       "      <td>-0.482901</td>\n",
       "      <td>0.331575</td>\n",
       "      <td>-1.766603</td>\n",
       "      <td>-0.055119</td>\n",
       "      <td>-1.119761e-13</td>\n",
       "      <td>-1.102615e+00</td>\n",
       "    </tr>\n",
       "    <tr>\n",
       "      <th>1</th>\n",
       "      <td>0.297819</td>\n",
       "      <td>-1.126327</td>\n",
       "      <td>-0.624694</td>\n",
       "      <td>-0.034613</td>\n",
       "      <td>-0.433714</td>\n",
       "      <td>-0.460492</td>\n",
       "      <td>0.825541</td>\n",
       "      <td>-2.012146</td>\n",
       "      <td>-0.419991</td>\n",
       "      <td>-1.119761e-13</td>\n",
       "      <td>4.182583e-16</td>\n",
       "    </tr>\n",
       "  </tbody>\n",
       "</table>\n",
       "</div>"
      ],
      "text/plain": [
       "   Client_Income  Credit_Amount  Loan_Annuity  Population_Region_Relative  \\\n",
       "0      -0.890004       0.028786      0.485674                    0.014954   \n",
       "1       0.297819      -1.126327     -0.624694                   -0.034613   \n",
       "\n",
       "   Age_Days  Employed_Days  Registration_Days   ID_Days  Score_Source_2  \\\n",
       "0 -0.481376      -0.482901           0.331575 -1.766603       -0.055119   \n",
       "1 -0.433714      -0.460492           0.825541 -2.012146       -0.419991   \n",
       "\n",
       "   Score_Source_3  Phone_Change  \n",
       "0   -1.119761e-13 -1.102615e+00  \n",
       "1   -1.119761e-13  4.182583e-16  "
      ]
     },
     "execution_count": 24,
     "metadata": {},
     "output_type": "execute_result"
    }
   ],
   "source": [
    "train_ID = train_num_data.ID\n",
    "train_num_data.drop('ID',1,inplace = True)\n",
    "from sklearn.preprocessing import StandardScaler\n",
    "ss = StandardScaler()\n",
    "train_num_data_ss = pd.DataFrame(ss.fit_transform(train_num_data))\n",
    "train_num_data_ss.columns = train_num_data.columns\n",
    "train_num_data_ss.head(2)"
   ]
  },
  {
   "cell_type": "code",
   "execution_count": 25,
   "metadata": {},
   "outputs": [
    {
     "data": {
      "text/html": [
       "<div>\n",
       "<style scoped>\n",
       "    .dataframe tbody tr th:only-of-type {\n",
       "        vertical-align: middle;\n",
       "    }\n",
       "\n",
       "    .dataframe tbody tr th {\n",
       "        vertical-align: top;\n",
       "    }\n",
       "\n",
       "    .dataframe thead th {\n",
       "        text-align: right;\n",
       "    }\n",
       "</style>\n",
       "<table border=\"1\" class=\"dataframe\">\n",
       "  <thead>\n",
       "    <tr style=\"text-align: right;\">\n",
       "      <th></th>\n",
       "      <th>Client_Income</th>\n",
       "      <th>Credit_Amount</th>\n",
       "      <th>Loan_Annuity</th>\n",
       "      <th>Population_Region_Relative</th>\n",
       "      <th>Age_Days</th>\n",
       "      <th>Employed_Days</th>\n",
       "      <th>Registration_Days</th>\n",
       "      <th>ID_Days</th>\n",
       "      <th>Score_Source_2</th>\n",
       "      <th>Score_Source_3</th>\n",
       "      <th>Phone_Change</th>\n",
       "    </tr>\n",
       "  </thead>\n",
       "  <tbody>\n",
       "    <tr>\n",
       "      <th>0</th>\n",
       "      <td>-0.466241</td>\n",
       "      <td>1.327768</td>\n",
       "      <td>1.251334</td>\n",
       "      <td>-0.009246</td>\n",
       "      <td>0.932802</td>\n",
       "      <td>-0.476213</td>\n",
       "      <td>-0.769768</td>\n",
       "      <td>0.214337</td>\n",
       "      <td>0.609404</td>\n",
       "      <td>6.911752e-01</td>\n",
       "      <td>-0.300481</td>\n",
       "    </tr>\n",
       "    <tr>\n",
       "      <th>1</th>\n",
       "      <td>-0.279459</td>\n",
       "      <td>-0.257188</td>\n",
       "      <td>0.385668</td>\n",
       "      <td>-0.023370</td>\n",
       "      <td>-0.663915</td>\n",
       "      <td>-0.490544</td>\n",
       "      <td>0.571504</td>\n",
       "      <td>0.585651</td>\n",
       "      <td>-0.437897</td>\n",
       "      <td>-1.949276e-15</td>\n",
       "      <td>-0.956615</td>\n",
       "    </tr>\n",
       "  </tbody>\n",
       "</table>\n",
       "</div>"
      ],
      "text/plain": [
       "   Client_Income  Credit_Amount  Loan_Annuity  Population_Region_Relative  \\\n",
       "0      -0.466241       1.327768      1.251334                   -0.009246   \n",
       "1      -0.279459      -0.257188      0.385668                   -0.023370   \n",
       "\n",
       "   Age_Days  Employed_Days  Registration_Days   ID_Days  Score_Source_2  \\\n",
       "0  0.932802      -0.476213          -0.769768  0.214337        0.609404   \n",
       "1 -0.663915      -0.490544           0.571504  0.585651       -0.437897   \n",
       "\n",
       "   Score_Source_3  Phone_Change  \n",
       "0    6.911752e-01     -0.300481  \n",
       "1   -1.949276e-15     -0.956615  "
      ]
     },
     "execution_count": 25,
     "metadata": {},
     "output_type": "execute_result"
    }
   ],
   "source": [
    "test_ID = test_num_data.ID\n",
    "test_num_data.drop('ID',1,inplace = True)\n",
    "from sklearn.preprocessing import StandardScaler\n",
    "ss = StandardScaler()\n",
    "test_num_data_ss = pd.DataFrame(ss.fit_transform(test_num_data))\n",
    "test_num_data_ss.columns = test_num_data.columns\n",
    "test_num_data_ss.head(2)"
   ]
  },
  {
   "cell_type": "code",
   "execution_count": 26,
   "metadata": {},
   "outputs": [],
   "source": [
    "train_num_data_ss.set_index(train_ID,inplace = True)\n",
    "train_num_data_ss.reset_index(inplace = True)"
   ]
  },
  {
   "cell_type": "code",
   "execution_count": 27,
   "metadata": {},
   "outputs": [
    {
     "data": {
      "text/plain": [
       "(121856, 12)"
      ]
     },
     "execution_count": 27,
     "metadata": {},
     "output_type": "execute_result"
    }
   ],
   "source": [
    "train_num_data_ss.shape"
   ]
  },
  {
   "cell_type": "code",
   "execution_count": 28,
   "metadata": {},
   "outputs": [],
   "source": [
    "test_num_data_ss.set_index(test_ID,inplace = True)\n",
    "test_num_data_ss.reset_index(inplace = True)"
   ]
  },
  {
   "cell_type": "code",
   "execution_count": 29,
   "metadata": {},
   "outputs": [],
   "source": [
    "# Categorical Data"
   ]
  },
  {
   "cell_type": "code",
   "execution_count": 30,
   "metadata": {},
   "outputs": [],
   "source": [
    "# Accompany Client"
   ]
  },
  {
   "cell_type": "code",
   "execution_count": 31,
   "metadata": {},
   "outputs": [
    {
     "data": {
      "text/plain": [
       "Alone       97409\n",
       "Relative    15748\n",
       "Partner      4516\n",
       "Kids         1334\n",
       "Others        987\n",
       "Group         104\n",
       "##             12\n",
       "Name: Accompany_Client, dtype: int64"
      ]
     },
     "execution_count": 31,
     "metadata": {},
     "output_type": "execute_result"
    }
   ],
   "source": [
    "train_cat_data.Accompany_Client.value_counts()"
   ]
  },
  {
   "cell_type": "code",
   "execution_count": 32,
   "metadata": {},
   "outputs": [
    {
     "name": "stderr",
     "output_type": "stream",
     "text": [
      "C:\\Users\\Gola\\Anaconda3\\lib\\site-packages\\pandas\\core\\generic.py:6746: SettingWithCopyWarning: \n",
      "A value is trying to be set on a copy of a slice from a DataFrame\n",
      "\n",
      "See the caveats in the documentation: https://pandas.pydata.org/pandas-docs/stable/user_guide/indexing.html#returning-a-view-versus-a-copy\n",
      "  self._update_inplace(new_data)\n"
     ]
    }
   ],
   "source": [
    "train_cat_data.Accompany_Client.replace({'Group':'Others','##':'Others'},inplace = True)"
   ]
  },
  {
   "cell_type": "code",
   "execution_count": 33,
   "metadata": {},
   "outputs": [
    {
     "data": {
      "text/plain": [
       "Alone       97409\n",
       "Relative    15748\n",
       "Partner      4516\n",
       "Kids         1334\n",
       "Others       1103\n",
       "Name: Accompany_Client, dtype: int64"
      ]
     },
     "execution_count": 33,
     "metadata": {},
     "output_type": "execute_result"
    }
   ],
   "source": [
    "train_cat_data.Accompany_Client.value_counts()"
   ]
  },
  {
   "cell_type": "code",
   "execution_count": 34,
   "metadata": {},
   "outputs": [],
   "source": [
    "train_cat_data.Accompany_Client.replace({'Alone':0, 'Kids':1, 'Others':2, 'Partner':3, 'Relative':4},inplace = True)"
   ]
  },
  {
   "cell_type": "code",
   "execution_count": 35,
   "metadata": {
    "scrolled": true
   },
   "outputs": [
    {
     "data": {
      "text/plain": [
       "Alone       64786\n",
       "Relative    10349\n",
       "Partner      2967\n",
       "Kids          855\n",
       "Others        664\n",
       "Group          67\n",
       "##              4\n",
       "Name: Accompany_Client, dtype: int64"
      ]
     },
     "execution_count": 35,
     "metadata": {},
     "output_type": "execute_result"
    }
   ],
   "source": [
    "test_cat_data.Accompany_Client.value_counts()"
   ]
  },
  {
   "cell_type": "code",
   "execution_count": 36,
   "metadata": {
    "scrolled": true
   },
   "outputs": [],
   "source": [
    "test_cat_data.Accompany_Client.replace({'Group':'Others','##':'Others'},inplace = True)"
   ]
  },
  {
   "cell_type": "code",
   "execution_count": 37,
   "metadata": {},
   "outputs": [],
   "source": [
    "test_cat_data.Accompany_Client.replace({'Alone':0, 'Kids':1, 'Others':2, 'Partner':3, 'Relative':4},inplace = True)"
   ]
  },
  {
   "cell_type": "code",
   "execution_count": 38,
   "metadata": {},
   "outputs": [],
   "source": [
    "# Client Income Type"
   ]
  },
  {
   "cell_type": "code",
   "execution_count": 39,
   "metadata": {},
   "outputs": [
    {
     "data": {
      "text/plain": [
       "Index(['Service', 'Commercial', 'Retired', 'Govt Job', 'Student', 'Unemployed',\n",
       "       'Maternity leave', 'Businessman'],\n",
       "      dtype='object')"
      ]
     },
     "execution_count": 39,
     "metadata": {},
     "output_type": "execute_result"
    }
   ],
   "source": [
    "train_cat_data.Client_Income_Type.value_counts().index"
   ]
  },
  {
   "cell_type": "code",
   "execution_count": 40,
   "metadata": {},
   "outputs": [],
   "source": [
    "train_cat_data.Client_Income_Type.replace({'Service':0, 'Commercial':1, 'Retired':2, 'Govt Job':3, 'Student':4, 'Unemployed':5,\n",
    "                                       'Maternity leave':5, 'Businessman':7},inplace = True)"
   ]
  },
  {
   "cell_type": "code",
   "execution_count": 41,
   "metadata": {},
   "outputs": [
    {
     "data": {
      "text/plain": [
       "Index(['Service', 'Commercial', 'Retired', 'Govt Job', 'Unemployed', 'Student',\n",
       "       'Businessman'],\n",
       "      dtype='object')"
      ]
     },
     "execution_count": 41,
     "metadata": {},
     "output_type": "execute_result"
    }
   ],
   "source": [
    "test_cat_data.Client_Income_Type.value_counts().index"
   ]
  },
  {
   "cell_type": "code",
   "execution_count": 42,
   "metadata": {},
   "outputs": [],
   "source": [
    "test_cat_data.Client_Income_Type.replace({'Service':0, 'Commercial':1, 'Retired':2, 'Govt Job':3, 'Student':4, 'Unemployed':5,\n",
    "                                       'Maternity leave':6, 'Businessman':7},inplace = True)"
   ]
  },
  {
   "cell_type": "code",
   "execution_count": 43,
   "metadata": {},
   "outputs": [],
   "source": [
    "# Client Education"
   ]
  },
  {
   "cell_type": "code",
   "execution_count": 44,
   "metadata": {},
   "outputs": [
    {
     "data": {
      "text/plain": [
       "Index(['Secondary', 'Graduation', 'Graduation dropout', 'Junior secondary',\n",
       "       'Post Grad'],\n",
       "      dtype='object')"
      ]
     },
     "execution_count": 44,
     "metadata": {},
     "output_type": "execute_result"
    }
   ],
   "source": [
    "train_cat_data.Client_Education.value_counts().index"
   ]
  },
  {
   "cell_type": "code",
   "execution_count": 45,
   "metadata": {},
   "outputs": [],
   "source": [
    "train_cat_data.Client_Education.replace({'Secondary':0, 'Graduation':1, 'Graduation dropout':2, 'Junior secondary':3,\n",
    "                                           'Post Grad':4},inplace = True)"
   ]
  },
  {
   "cell_type": "code",
   "execution_count": 46,
   "metadata": {},
   "outputs": [
    {
     "data": {
      "text/plain": [
       "Index(['Secondary', 'Graduation', 'Graduation dropout', 'junior secondary',\n",
       "       'Post Grad'],\n",
       "      dtype='object')"
      ]
     },
     "execution_count": 46,
     "metadata": {},
     "output_type": "execute_result"
    }
   ],
   "source": [
    "test_cat_data.Client_Education.value_counts().index"
   ]
  },
  {
   "cell_type": "code",
   "execution_count": 47,
   "metadata": {},
   "outputs": [],
   "source": [
    "test_cat_data.Client_Education.replace({'Secondary':0, 'Graduation':1, 'Graduation dropout':2, 'junior secondary':3,\n",
    "                                           'Post Grad':4},inplace = True)"
   ]
  },
  {
   "cell_type": "code",
   "execution_count": 48,
   "metadata": {},
   "outputs": [],
   "source": [
    "# Client Marital Status"
   ]
  },
  {
   "cell_type": "code",
   "execution_count": 49,
   "metadata": {},
   "outputs": [
    {
     "data": {
      "text/plain": [
       "Index(['M', 'S', 'D', 'W'], dtype='object')"
      ]
     },
     "execution_count": 49,
     "metadata": {},
     "output_type": "execute_result"
    }
   ],
   "source": [
    "train_cat_data.Client_Marital_Status.value_counts().index"
   ]
  },
  {
   "cell_type": "code",
   "execution_count": 50,
   "metadata": {},
   "outputs": [],
   "source": [
    "train_cat_data.Client_Marital_Status.replace({'M':0, 'S':1, 'D':2, 'W':3},inplace = True)"
   ]
  },
  {
   "cell_type": "code",
   "execution_count": 51,
   "metadata": {},
   "outputs": [
    {
     "data": {
      "text/plain": [
       "Index(['M', 'S', 'D', 'W', 'Unknown'], dtype='object')"
      ]
     },
     "execution_count": 51,
     "metadata": {},
     "output_type": "execute_result"
    }
   ],
   "source": [
    "test_cat_data.Client_Marital_Status.value_counts().index"
   ]
  },
  {
   "cell_type": "code",
   "execution_count": 52,
   "metadata": {},
   "outputs": [],
   "source": [
    "test_cat_data.Client_Marital_Status.replace({'M':0, 'S':1, 'D':2, 'W':3,'Unknown':0},inplace = True)"
   ]
  },
  {
   "cell_type": "code",
   "execution_count": 53,
   "metadata": {},
   "outputs": [],
   "source": [
    "# Client Gender"
   ]
  },
  {
   "cell_type": "code",
   "execution_count": 54,
   "metadata": {},
   "outputs": [
    {
     "data": {
      "text/plain": [
       "Index(['Male', 'Female', 'XNA'], dtype='object')"
      ]
     },
     "execution_count": 54,
     "metadata": {},
     "output_type": "execute_result"
    }
   ],
   "source": [
    "train_cat_data.Client_Gender.value_counts().index"
   ]
  },
  {
   "cell_type": "code",
   "execution_count": 55,
   "metadata": {},
   "outputs": [],
   "source": [
    "train_cat_data.Client_Gender.replace({'Male':0, 'Female':1, 'XNA':2},inplace = True)"
   ]
  },
  {
   "cell_type": "code",
   "execution_count": 56,
   "metadata": {},
   "outputs": [
    {
     "data": {
      "text/plain": [
       "Index(['Male', 'Female', 'XNA'], dtype='object')"
      ]
     },
     "execution_count": 56,
     "metadata": {},
     "output_type": "execute_result"
    }
   ],
   "source": [
    "test_cat_data.Client_Gender.value_counts().index"
   ]
  },
  {
   "cell_type": "code",
   "execution_count": 57,
   "metadata": {},
   "outputs": [],
   "source": [
    "test_cat_data.Client_Gender.replace({'Male':0, 'Female':1, 'XNA':2},inplace = True)"
   ]
  },
  {
   "cell_type": "code",
   "execution_count": 58,
   "metadata": {},
   "outputs": [],
   "source": [
    "# Loan Contract Type"
   ]
  },
  {
   "cell_type": "code",
   "execution_count": 59,
   "metadata": {},
   "outputs": [
    {
     "data": {
      "text/plain": [
       "Index(['CL', 'RL'], dtype='object')"
      ]
     },
     "execution_count": 59,
     "metadata": {},
     "output_type": "execute_result"
    }
   ],
   "source": [
    "train_cat_data.Loan_Contract_Type.value_counts().index"
   ]
  },
  {
   "cell_type": "code",
   "execution_count": 60,
   "metadata": {},
   "outputs": [],
   "source": [
    "train_cat_data.Loan_Contract_Type.replace({'CL':0, 'RL':1},inplace = True)"
   ]
  },
  {
   "cell_type": "code",
   "execution_count": 61,
   "metadata": {},
   "outputs": [
    {
     "data": {
      "text/plain": [
       "Index(['CL', 'RL'], dtype='object')"
      ]
     },
     "execution_count": 61,
     "metadata": {},
     "output_type": "execute_result"
    }
   ],
   "source": [
    "test_cat_data.Loan_Contract_Type.value_counts().index"
   ]
  },
  {
   "cell_type": "code",
   "execution_count": 62,
   "metadata": {},
   "outputs": [],
   "source": [
    "test_cat_data.Loan_Contract_Type.replace({'CL':0, 'RL':1},inplace = True)"
   ]
  },
  {
   "cell_type": "code",
   "execution_count": 63,
   "metadata": {},
   "outputs": [],
   "source": [
    "# Client Housing Type"
   ]
  },
  {
   "cell_type": "code",
   "execution_count": 64,
   "metadata": {},
   "outputs": [
    {
     "data": {
      "text/plain": [
       "Index(['Home', 'Family', 'Municipal', 'Rental', 'Office', 'Shared'], dtype='object')"
      ]
     },
     "execution_count": 64,
     "metadata": {},
     "output_type": "execute_result"
    }
   ],
   "source": [
    "train_cat_data.Client_Housing_Type.value_counts().index"
   ]
  },
  {
   "cell_type": "code",
   "execution_count": 65,
   "metadata": {},
   "outputs": [],
   "source": [
    "train_cat_data.Client_Housing_Type.replace({'Home':0, 'Family':1, 'Municipal':2, 'Rental':3, 'Office':4, 'Shared':5},inplace = True)"
   ]
  },
  {
   "cell_type": "code",
   "execution_count": 66,
   "metadata": {},
   "outputs": [
    {
     "data": {
      "text/plain": [
       "Index(['Home', 'Family', 'Municipal', 'Rental', 'Office', 'Shared'], dtype='object')"
      ]
     },
     "execution_count": 66,
     "metadata": {},
     "output_type": "execute_result"
    }
   ],
   "source": [
    "test_cat_data.Client_Housing_Type.value_counts().index"
   ]
  },
  {
   "cell_type": "code",
   "execution_count": 67,
   "metadata": {},
   "outputs": [],
   "source": [
    "test_cat_data.Client_Housing_Type.replace({'Home':0, 'Family':1, 'Municipal':2, 'Rental':3, 'Office':4, 'Shared':5},inplace = True)"
   ]
  },
  {
   "cell_type": "code",
   "execution_count": 68,
   "metadata": {},
   "outputs": [],
   "source": [
    "# Client Permanent Match Tag"
   ]
  },
  {
   "cell_type": "code",
   "execution_count": 69,
   "metadata": {},
   "outputs": [
    {
     "data": {
      "text/plain": [
       "Index(['Yes', 'No'], dtype='object')"
      ]
     },
     "execution_count": 69,
     "metadata": {},
     "output_type": "execute_result"
    }
   ],
   "source": [
    "train_cat_data.Client_Permanent_Match_Tag.value_counts().index"
   ]
  },
  {
   "cell_type": "code",
   "execution_count": 70,
   "metadata": {},
   "outputs": [],
   "source": [
    "train_cat_data.Client_Permanent_Match_Tag.replace({'Yes':0, 'No':1},inplace = True)"
   ]
  },
  {
   "cell_type": "code",
   "execution_count": 71,
   "metadata": {},
   "outputs": [
    {
     "data": {
      "text/plain": [
       "Index(['Yes', 'No'], dtype='object')"
      ]
     },
     "execution_count": 71,
     "metadata": {},
     "output_type": "execute_result"
    }
   ],
   "source": [
    "test_cat_data.Client_Permanent_Match_Tag.value_counts().index"
   ]
  },
  {
   "cell_type": "code",
   "execution_count": 72,
   "metadata": {},
   "outputs": [],
   "source": [
    "test_cat_data.Client_Permanent_Match_Tag.replace({'Yes':0, 'No':1},inplace = True)"
   ]
  },
  {
   "cell_type": "code",
   "execution_count": 73,
   "metadata": {},
   "outputs": [],
   "source": [
    "# Client Contract Work Tag"
   ]
  },
  {
   "cell_type": "code",
   "execution_count": 74,
   "metadata": {},
   "outputs": [
    {
     "data": {
      "text/plain": [
       "Index(['Yes', 'No'], dtype='object')"
      ]
     },
     "execution_count": 74,
     "metadata": {},
     "output_type": "execute_result"
    }
   ],
   "source": [
    "train_cat_data.Client_Contact_Work_Tag.value_counts().index"
   ]
  },
  {
   "cell_type": "code",
   "execution_count": 75,
   "metadata": {},
   "outputs": [],
   "source": [
    "train_cat_data.Client_Contact_Work_Tag.replace({'Yes':0, 'No':1},inplace = True)"
   ]
  },
  {
   "cell_type": "code",
   "execution_count": 76,
   "metadata": {},
   "outputs": [
    {
     "data": {
      "text/plain": [
       "Index(['Yes', 'No'], dtype='object')"
      ]
     },
     "execution_count": 76,
     "metadata": {},
     "output_type": "execute_result"
    }
   ],
   "source": [
    "test_cat_data.Client_Contact_Work_Tag.value_counts().index"
   ]
  },
  {
   "cell_type": "code",
   "execution_count": 77,
   "metadata": {},
   "outputs": [],
   "source": [
    "test_cat_data.Client_Contact_Work_Tag.replace({'Yes':0, 'No':1},inplace = True)"
   ]
  },
  {
   "cell_type": "code",
   "execution_count": 78,
   "metadata": {
    "scrolled": false
   },
   "outputs": [],
   "source": [
    "# Type Organization"
   ]
  },
  {
   "cell_type": "code",
   "execution_count": 79,
   "metadata": {
    "scrolled": true
   },
   "outputs": [
    {
     "data": {
      "text/plain": [
       "Index(['Business Entity Type 3', 'XNA', 'Self-employed', 'Other', 'Medicine',\n",
       "       'Business Entity Type 2', 'Government', 'School', 'Trade: type 7',\n",
       "       'Kindergarten', 'Construction', 'Business Entity Type 1',\n",
       "       'Transport: type 4', 'Trade: type 3', 'Security', 'Industry: type 9',\n",
       "       'Industry: type 3', 'Housing', 'Military', 'Bank', 'Agriculture',\n",
       "       'Industry: type 11', 'Police', 'Postal', 'Transport: type 2',\n",
       "       'Security Ministries', 'Trade: type 2', 'Restaurant', 'Services',\n",
       "       'University', 'Transport: type 3', 'Industry: type 7',\n",
       "       'Industry: type 1', 'Hotel', 'Electricity', 'Industry: type 4',\n",
       "       'Trade: type 6', 'Industry: type 5', 'Telecom', 'Insurance',\n",
       "       'Emergency', 'Industry: type 2', 'Realtor', 'Industry: type 12',\n",
       "       'Advertising', 'Trade: type 1', 'Culture', 'Mobile', 'Legal Services',\n",
       "       'Cleaning', 'Transport: type 1', 'Industry: type 6',\n",
       "       'Industry: type 10', 'Religion', 'Industry: type 13', 'Trade: type 4',\n",
       "       'Trade: type 5', 'Industry: type 8'],\n",
       "      dtype='object')"
      ]
     },
     "execution_count": 79,
     "metadata": {},
     "output_type": "execute_result"
    }
   ],
   "source": [
    "train_cat_data.Type_Organization.value_counts().index"
   ]
  },
  {
   "cell_type": "code",
   "execution_count": 80,
   "metadata": {},
   "outputs": [
    {
     "data": {
      "text/plain": [
       "Index(['Business Entity Type 3', 'XNA', 'Self-employed', 'Other', 'Medicine',\n",
       "       'Business Entity Type 2', 'Government', 'School', 'Trade: type 7',\n",
       "       'Kindergarten', 'Construction', 'Business Entity Type 1',\n",
       "       'Transport: type 4', 'Trade: type 3', 'Industry: type 3', 'Security',\n",
       "       'Industry: type 9', 'Housing', 'Industry: type 11', 'Military',\n",
       "       'Police', 'Agriculture', 'Bank', 'Postal', 'Transport: type 2',\n",
       "       'Security Ministries', 'Restaurant', 'Trade: type 2', 'Services',\n",
       "       'University', 'Industry: type 7', 'Transport: type 3',\n",
       "       'Industry: type 4', 'Industry: type 1', 'Electricity', 'Hotel',\n",
       "       'Trade: type 6', 'Industry: type 5', 'Insurance', 'Telecom',\n",
       "       'Emergency', 'Industry: type 2', 'Mobile', 'Realtor', 'Advertising',\n",
       "       'Trade: type 1', 'Culture', 'Legal Services', 'Cleaning',\n",
       "       'Industry: type 12', 'Transport: type 1', 'Industry: type 6',\n",
       "       'Industry: type 10', 'Industry: type 13', 'Religion', 'Trade: type 5',\n",
       "       'Trade: type 4', 'Industry: type 8'],\n",
       "      dtype='object')"
      ]
     },
     "execution_count": 80,
     "metadata": {},
     "output_type": "execute_result"
    }
   ],
   "source": [
    "test_cat_data.Type_Organization.value_counts().index"
   ]
  },
  {
   "cell_type": "code",
   "execution_count": 81,
   "metadata": {},
   "outputs": [
    {
     "name": "stderr",
     "output_type": "stream",
     "text": [
      "C:\\Users\\Gola\\Anaconda3\\lib\\site-packages\\pandas\\core\\frame.py:3997: SettingWithCopyWarning: \n",
      "A value is trying to be set on a copy of a slice from a DataFrame\n",
      "\n",
      "See the caveats in the documentation: https://pandas.pydata.org/pandas-docs/stable/user_guide/indexing.html#returning-a-view-versus-a-copy\n",
      "  errors=errors,\n"
     ]
    }
   ],
   "source": [
    "#There are too my levels in this feature, so droping this feature would br right.\n",
    "train_cat_data.drop('Type_Organization',1,inplace = True)\n",
    "test_cat_data.drop('Type_Organization',1,inplace = True)"
   ]
  },
  {
   "cell_type": "code",
   "execution_count": 82,
   "metadata": {},
   "outputs": [
    {
     "data": {
      "text/html": [
       "<div>\n",
       "<style scoped>\n",
       "    .dataframe tbody tr th:only-of-type {\n",
       "        vertical-align: middle;\n",
       "    }\n",
       "\n",
       "    .dataframe tbody tr th {\n",
       "        vertical-align: top;\n",
       "    }\n",
       "\n",
       "    .dataframe thead th {\n",
       "        text-align: right;\n",
       "    }\n",
       "</style>\n",
       "<table border=\"1\" class=\"dataframe\">\n",
       "  <thead>\n",
       "    <tr style=\"text-align: right;\">\n",
       "      <th></th>\n",
       "      <th>Car_Owned</th>\n",
       "      <th>Bike_Owned</th>\n",
       "      <th>Active_Loan</th>\n",
       "      <th>House_Own</th>\n",
       "      <th>Child_Count</th>\n",
       "      <th>Accompany_Client</th>\n",
       "      <th>Client_Income_Type</th>\n",
       "      <th>Client_Education</th>\n",
       "      <th>Client_Marital_Status</th>\n",
       "      <th>Client_Gender</th>\n",
       "      <th>...</th>\n",
       "      <th>Homephone_Tag</th>\n",
       "      <th>Workphone_Working</th>\n",
       "      <th>Client_Family_Members</th>\n",
       "      <th>Cleint_City_Rating</th>\n",
       "      <th>Application_Process_Day</th>\n",
       "      <th>Application_Process_Hour</th>\n",
       "      <th>Client_Permanent_Match_Tag</th>\n",
       "      <th>Client_Contact_Work_Tag</th>\n",
       "      <th>Credit_Bureau</th>\n",
       "      <th>Default</th>\n",
       "    </tr>\n",
       "  </thead>\n",
       "  <tbody>\n",
       "    <tr>\n",
       "      <th>0</th>\n",
       "      <td>0.0</td>\n",
       "      <td>0.0</td>\n",
       "      <td>1.0</td>\n",
       "      <td>0.0</td>\n",
       "      <td>0.0</td>\n",
       "      <td>0.0</td>\n",
       "      <td>1.0</td>\n",
       "      <td>0.0</td>\n",
       "      <td>0.0</td>\n",
       "      <td>0.0</td>\n",
       "      <td>...</td>\n",
       "      <td>1</td>\n",
       "      <td>0</td>\n",
       "      <td>2.0</td>\n",
       "      <td>2.0</td>\n",
       "      <td>6.0</td>\n",
       "      <td>17.0</td>\n",
       "      <td>0</td>\n",
       "      <td>0</td>\n",
       "      <td>NaN</td>\n",
       "      <td>0</td>\n",
       "    </tr>\n",
       "    <tr>\n",
       "      <th>1</th>\n",
       "      <td>1.0</td>\n",
       "      <td>0.0</td>\n",
       "      <td>1.0</td>\n",
       "      <td>NaN</td>\n",
       "      <td>0.0</td>\n",
       "      <td>0.0</td>\n",
       "      <td>0.0</td>\n",
       "      <td>1.0</td>\n",
       "      <td>0.0</td>\n",
       "      <td>0.0</td>\n",
       "      <td>...</td>\n",
       "      <td>0</td>\n",
       "      <td>1</td>\n",
       "      <td>2.0</td>\n",
       "      <td>2.0</td>\n",
       "      <td>3.0</td>\n",
       "      <td>10.0</td>\n",
       "      <td>0</td>\n",
       "      <td>0</td>\n",
       "      <td>NaN</td>\n",
       "      <td>0</td>\n",
       "    </tr>\n",
       "  </tbody>\n",
       "</table>\n",
       "<p>2 rows × 23 columns</p>\n",
       "</div>"
      ],
      "text/plain": [
       "   Car_Owned  Bike_Owned  Active_Loan  House_Own  Child_Count  \\\n",
       "0        0.0         0.0          1.0        0.0          0.0   \n",
       "1        1.0         0.0          1.0        NaN          0.0   \n",
       "\n",
       "   Accompany_Client  Client_Income_Type  Client_Education  \\\n",
       "0               0.0                 1.0               0.0   \n",
       "1               0.0                 0.0               1.0   \n",
       "\n",
       "   Client_Marital_Status  Client_Gender  ...  Homephone_Tag  \\\n",
       "0                    0.0            0.0  ...              1   \n",
       "1                    0.0            0.0  ...              0   \n",
       "\n",
       "   Workphone_Working  Client_Family_Members  Cleint_City_Rating  \\\n",
       "0                  0                    2.0                 2.0   \n",
       "1                  1                    2.0                 2.0   \n",
       "\n",
       "   Application_Process_Day  Application_Process_Hour  \\\n",
       "0                      6.0                      17.0   \n",
       "1                      3.0                      10.0   \n",
       "\n",
       "   Client_Permanent_Match_Tag  Client_Contact_Work_Tag  Credit_Bureau  Default  \n",
       "0                           0                        0            NaN        0  \n",
       "1                           0                        0            NaN        0  \n",
       "\n",
       "[2 rows x 23 columns]"
      ]
     },
     "execution_count": 82,
     "metadata": {},
     "output_type": "execute_result"
    }
   ],
   "source": [
    "train_cat_data.head(2)"
   ]
  },
  {
   "cell_type": "code",
   "execution_count": 83,
   "metadata": {},
   "outputs": [
    {
     "data": {
      "text/html": [
       "<div>\n",
       "<style scoped>\n",
       "    .dataframe tbody tr th:only-of-type {\n",
       "        vertical-align: middle;\n",
       "    }\n",
       "\n",
       "    .dataframe tbody tr th {\n",
       "        vertical-align: top;\n",
       "    }\n",
       "\n",
       "    .dataframe thead th {\n",
       "        text-align: right;\n",
       "    }\n",
       "</style>\n",
       "<table border=\"1\" class=\"dataframe\">\n",
       "  <thead>\n",
       "    <tr style=\"text-align: right;\">\n",
       "      <th></th>\n",
       "      <th>Car_Owned</th>\n",
       "      <th>Bike_Owned</th>\n",
       "      <th>Active_Loan</th>\n",
       "      <th>House_Own</th>\n",
       "      <th>Child_Count</th>\n",
       "      <th>Accompany_Client</th>\n",
       "      <th>Client_Income_Type</th>\n",
       "      <th>Client_Education</th>\n",
       "      <th>Client_Marital_Status</th>\n",
       "      <th>Client_Gender</th>\n",
       "      <th>...</th>\n",
       "      <th>Mobile_Tag</th>\n",
       "      <th>Homephone_Tag</th>\n",
       "      <th>Workphone_Working</th>\n",
       "      <th>Client_Family_Members</th>\n",
       "      <th>Cleint_City_Rating</th>\n",
       "      <th>Application_Process_Day</th>\n",
       "      <th>Application_Process_Hour</th>\n",
       "      <th>Client_Permanent_Match_Tag</th>\n",
       "      <th>Client_Contact_Work_Tag</th>\n",
       "      <th>Credit_Bureau</th>\n",
       "    </tr>\n",
       "  </thead>\n",
       "  <tbody>\n",
       "    <tr>\n",
       "      <th>0</th>\n",
       "      <td>0.0</td>\n",
       "      <td>1.0</td>\n",
       "      <td>1.0</td>\n",
       "      <td>1.0</td>\n",
       "      <td>0.0</td>\n",
       "      <td>4.0</td>\n",
       "      <td>0.0</td>\n",
       "      <td>NaN</td>\n",
       "      <td>0.0</td>\n",
       "      <td>0.0</td>\n",
       "      <td>...</td>\n",
       "      <td>1</td>\n",
       "      <td>0</td>\n",
       "      <td>0</td>\n",
       "      <td>NaN</td>\n",
       "      <td>2.0</td>\n",
       "      <td>4.0</td>\n",
       "      <td>16.0</td>\n",
       "      <td>0</td>\n",
       "      <td>0</td>\n",
       "      <td>2.0</td>\n",
       "    </tr>\n",
       "    <tr>\n",
       "      <th>1</th>\n",
       "      <td>1.0</td>\n",
       "      <td>1.0</td>\n",
       "      <td>1.0</td>\n",
       "      <td>1.0</td>\n",
       "      <td>3.0</td>\n",
       "      <td>0.0</td>\n",
       "      <td>0.0</td>\n",
       "      <td>0.0</td>\n",
       "      <td>0.0</td>\n",
       "      <td>1.0</td>\n",
       "      <td>...</td>\n",
       "      <td>1</td>\n",
       "      <td>1</td>\n",
       "      <td>0</td>\n",
       "      <td>5.0</td>\n",
       "      <td>3.0</td>\n",
       "      <td>3.0</td>\n",
       "      <td>18.0</td>\n",
       "      <td>1</td>\n",
       "      <td>0</td>\n",
       "      <td>NaN</td>\n",
       "    </tr>\n",
       "  </tbody>\n",
       "</table>\n",
       "<p>2 rows × 22 columns</p>\n",
       "</div>"
      ],
      "text/plain": [
       "   Car_Owned  Bike_Owned  Active_Loan  House_Own  Child_Count  \\\n",
       "0        0.0         1.0          1.0        1.0          0.0   \n",
       "1        1.0         1.0          1.0        1.0          3.0   \n",
       "\n",
       "   Accompany_Client  Client_Income_Type  Client_Education  \\\n",
       "0               4.0                 0.0               NaN   \n",
       "1               0.0                 0.0               0.0   \n",
       "\n",
       "   Client_Marital_Status  Client_Gender  ...  Mobile_Tag  Homephone_Tag  \\\n",
       "0                    0.0            0.0  ...           1              0   \n",
       "1                    0.0            1.0  ...           1              1   \n",
       "\n",
       "   Workphone_Working  Client_Family_Members  Cleint_City_Rating  \\\n",
       "0                  0                    NaN                 2.0   \n",
       "1                  0                    5.0                 3.0   \n",
       "\n",
       "   Application_Process_Day  Application_Process_Hour  \\\n",
       "0                      4.0                      16.0   \n",
       "1                      3.0                      18.0   \n",
       "\n",
       "   Client_Permanent_Match_Tag  Client_Contact_Work_Tag  Credit_Bureau  \n",
       "0                           0                        0            2.0  \n",
       "1                           1                        0            NaN  \n",
       "\n",
       "[2 rows x 22 columns]"
      ]
     },
     "execution_count": 83,
     "metadata": {},
     "output_type": "execute_result"
    }
   ],
   "source": [
    "test_cat_data.head(2)"
   ]
  },
  {
   "cell_type": "code",
   "execution_count": 84,
   "metadata": {
    "scrolled": true
   },
   "outputs": [
    {
     "data": {
      "text/plain": [
       "Car_Owned                      2.938715\n",
       "Bike_Owned                     2.974002\n",
       "Active_Loan                    2.983029\n",
       "House_Own                      3.004366\n",
       "Child_Count                    2.985491\n",
       "Accompany_Client               1.432839\n",
       "Client_Income_Type             3.037191\n",
       "Client_Education               2.991236\n",
       "Client_Marital_Status          2.850085\n",
       "Client_Gender                  1.980206\n",
       "Loan_Contract_Type             2.996159\n",
       "Client_Housing_Type            3.025702\n",
       "Mobile_Tag                     0.000000\n",
       "Homephone_Tag                  0.000000\n",
       "Workphone_Working              0.000000\n",
       "Client_Family_Members          1.977744\n",
       "Cleint_City_Rating             1.976924\n",
       "Application_Process_Day        1.992516\n",
       "Application_Process_Hour       3.006007\n",
       "Client_Permanent_Match_Tag     0.000000\n",
       "Client_Contact_Work_Tag        0.000000\n",
       "Credit_Bureau                 15.214680\n",
       "Default                        0.000000\n",
       "dtype: float64"
      ]
     },
     "execution_count": 84,
     "metadata": {},
     "output_type": "execute_result"
    }
   ],
   "source": [
    "train_cat_data.isna().sum()/len(train)*100"
   ]
  },
  {
   "cell_type": "code",
   "execution_count": 85,
   "metadata": {},
   "outputs": [
    {
     "data": {
      "text/plain": [
       "Car_Owned                      1.973641\n",
       "Bike_Owned                     2.040113\n",
       "Active_Loan                    2.013852\n",
       "House_Own                      1.926044\n",
       "Child_Count                    1.910452\n",
       "Accompany_Client               0.991334\n",
       "Client_Income_Type             2.052423\n",
       "Client_Education               1.928506\n",
       "Client_Marital_Status          2.004825\n",
       "Client_Gender                  1.335183\n",
       "Loan_Contract_Type             1.904707\n",
       "Client_Housing_Type            1.976103\n",
       "Mobile_Tag                     0.000000\n",
       "Homephone_Tag                  0.000000\n",
       "Workphone_Working              0.000000\n",
       "Client_Family_Members          1.349133\n",
       "Cleint_City_Rating             1.338465\n",
       "Application_Process_Day        1.262966\n",
       "Application_Process_Hour       1.974462\n",
       "Client_Permanent_Match_Tag     0.000000\n",
       "Client_Contact_Work_Tag        0.000000\n",
       "Credit_Bureau                 10.079110\n",
       "dtype: float64"
      ]
     },
     "execution_count": 85,
     "metadata": {},
     "output_type": "execute_result"
    }
   ],
   "source": [
    "test_cat_data.isna().sum()/len(train)*100"
   ]
  },
  {
   "cell_type": "code",
   "execution_count": 86,
   "metadata": {},
   "outputs": [
    {
     "name": "stderr",
     "output_type": "stream",
     "text": [
      "C:\\Users\\Gola\\Anaconda3\\lib\\site-packages\\ipykernel_launcher.py:3: SettingWithCopyWarning: \n",
      "A value is trying to be set on a copy of a slice from a DataFrame.\n",
      "Try using .loc[row_indexer,col_indexer] = value instead\n",
      "\n",
      "See the caveats in the documentation: https://pandas.pydata.org/pandas-docs/stable/user_guide/indexing.html#returning-a-view-versus-a-copy\n",
      "  This is separate from the ipykernel package so we can avoid doing imports until\n",
      "C:\\Users\\Gola\\Anaconda3\\lib\\site-packages\\ipykernel_launcher.py:5: SettingWithCopyWarning: \n",
      "A value is trying to be set on a copy of a slice from a DataFrame.\n",
      "Try using .loc[row_indexer,col_indexer] = value instead\n",
      "\n",
      "See the caveats in the documentation: https://pandas.pydata.org/pandas-docs/stable/user_guide/indexing.html#returning-a-view-versus-a-copy\n",
      "  \"\"\"\n"
     ]
    }
   ],
   "source": [
    "#we can fill these values with mode\n",
    "for i in train_cat_data:\n",
    "    train_cat_data[i] = train_cat_data[i].fillna(train_cat_data[i].mode()[0])\n",
    "for i in test_cat_data:\n",
    "    test_cat_data[i] = test_cat_data[i].fillna(test_cat_data[i].mode()[0])"
   ]
  },
  {
   "cell_type": "code",
   "execution_count": 87,
   "metadata": {
    "scrolled": true
   },
   "outputs": [
    {
     "data": {
      "text/plain": [
       "Car_Owned                     0.0\n",
       "Bike_Owned                    0.0\n",
       "Active_Loan                   0.0\n",
       "House_Own                     0.0\n",
       "Child_Count                   0.0\n",
       "Accompany_Client              0.0\n",
       "Client_Income_Type            0.0\n",
       "Client_Education              0.0\n",
       "Client_Marital_Status         0.0\n",
       "Client_Gender                 0.0\n",
       "Loan_Contract_Type            0.0\n",
       "Client_Housing_Type           0.0\n",
       "Mobile_Tag                    0.0\n",
       "Homephone_Tag                 0.0\n",
       "Workphone_Working             0.0\n",
       "Client_Family_Members         0.0\n",
       "Cleint_City_Rating            0.0\n",
       "Application_Process_Day       0.0\n",
       "Application_Process_Hour      0.0\n",
       "Client_Permanent_Match_Tag    0.0\n",
       "Client_Contact_Work_Tag       0.0\n",
       "Credit_Bureau                 0.0\n",
       "Default                       0.0\n",
       "dtype: float64"
      ]
     },
     "execution_count": 87,
     "metadata": {},
     "output_type": "execute_result"
    }
   ],
   "source": [
    "train_cat_data.isna().sum()/len(train)*100"
   ]
  },
  {
   "cell_type": "code",
   "execution_count": 88,
   "metadata": {},
   "outputs": [
    {
     "data": {
      "text/plain": [
       "Car_Owned                     0.0\n",
       "Bike_Owned                    0.0\n",
       "Active_Loan                   0.0\n",
       "House_Own                     0.0\n",
       "Child_Count                   0.0\n",
       "Accompany_Client              0.0\n",
       "Client_Income_Type            0.0\n",
       "Client_Education              0.0\n",
       "Client_Marital_Status         0.0\n",
       "Client_Gender                 0.0\n",
       "Loan_Contract_Type            0.0\n",
       "Client_Housing_Type           0.0\n",
       "Mobile_Tag                    0.0\n",
       "Homephone_Tag                 0.0\n",
       "Workphone_Working             0.0\n",
       "Client_Family_Members         0.0\n",
       "Cleint_City_Rating            0.0\n",
       "Application_Process_Day       0.0\n",
       "Application_Process_Hour      0.0\n",
       "Client_Permanent_Match_Tag    0.0\n",
       "Client_Contact_Work_Tag       0.0\n",
       "Credit_Bureau                 0.0\n",
       "dtype: float64"
      ]
     },
     "execution_count": 88,
     "metadata": {},
     "output_type": "execute_result"
    }
   ],
   "source": [
    "test_cat_data.isna().sum()/len(test)*100"
   ]
  },
  {
   "cell_type": "code",
   "execution_count": 89,
   "metadata": {
    "scrolled": true
   },
   "outputs": [
    {
     "data": {
      "text/html": [
       "<div>\n",
       "<style scoped>\n",
       "    .dataframe tbody tr th:only-of-type {\n",
       "        vertical-align: middle;\n",
       "    }\n",
       "\n",
       "    .dataframe tbody tr th {\n",
       "        vertical-align: top;\n",
       "    }\n",
       "\n",
       "    .dataframe thead th {\n",
       "        text-align: right;\n",
       "    }\n",
       "</style>\n",
       "<table border=\"1\" class=\"dataframe\">\n",
       "  <thead>\n",
       "    <tr style=\"text-align: right;\">\n",
       "      <th></th>\n",
       "      <th>ID</th>\n",
       "      <th>Client_Income</th>\n",
       "      <th>Credit_Amount</th>\n",
       "      <th>Loan_Annuity</th>\n",
       "      <th>Population_Region_Relative</th>\n",
       "      <th>Age_Days</th>\n",
       "      <th>Employed_Days</th>\n",
       "      <th>Registration_Days</th>\n",
       "      <th>ID_Days</th>\n",
       "      <th>Score_Source_2</th>\n",
       "      <th>...</th>\n",
       "      <th>Homephone_Tag</th>\n",
       "      <th>Workphone_Working</th>\n",
       "      <th>Client_Family_Members</th>\n",
       "      <th>Cleint_City_Rating</th>\n",
       "      <th>Application_Process_Day</th>\n",
       "      <th>Application_Process_Hour</th>\n",
       "      <th>Client_Permanent_Match_Tag</th>\n",
       "      <th>Client_Contact_Work_Tag</th>\n",
       "      <th>Credit_Bureau</th>\n",
       "      <th>Default</th>\n",
       "    </tr>\n",
       "  </thead>\n",
       "  <tbody>\n",
       "    <tr>\n",
       "      <th>0</th>\n",
       "      <td>12142509</td>\n",
       "      <td>-0.890004</td>\n",
       "      <td>0.028786</td>\n",
       "      <td>0.485674</td>\n",
       "      <td>0.014954</td>\n",
       "      <td>-0.481376</td>\n",
       "      <td>-0.482901</td>\n",
       "      <td>0.331575</td>\n",
       "      <td>-1.766603</td>\n",
       "      <td>-0.055119</td>\n",
       "      <td>...</td>\n",
       "      <td>1</td>\n",
       "      <td>0</td>\n",
       "      <td>2.0</td>\n",
       "      <td>2.0</td>\n",
       "      <td>6.0</td>\n",
       "      <td>17.0</td>\n",
       "      <td>0</td>\n",
       "      <td>0</td>\n",
       "      <td>0.0</td>\n",
       "      <td>0</td>\n",
       "    </tr>\n",
       "    <tr>\n",
       "      <th>1</th>\n",
       "      <td>12138936</td>\n",
       "      <td>0.297819</td>\n",
       "      <td>-1.126327</td>\n",
       "      <td>-0.624694</td>\n",
       "      <td>-0.034613</td>\n",
       "      <td>-0.433714</td>\n",
       "      <td>-0.460492</td>\n",
       "      <td>0.825541</td>\n",
       "      <td>-2.012146</td>\n",
       "      <td>-0.419991</td>\n",
       "      <td>...</td>\n",
       "      <td>0</td>\n",
       "      <td>1</td>\n",
       "      <td>2.0</td>\n",
       "      <td>2.0</td>\n",
       "      <td>3.0</td>\n",
       "      <td>10.0</td>\n",
       "      <td>0</td>\n",
       "      <td>0</td>\n",
       "      <td>0.0</td>\n",
       "      <td>0</td>\n",
       "    </tr>\n",
       "    <tr>\n",
       "      <th>2</th>\n",
       "      <td>12181264</td>\n",
       "      <td>0.099848</td>\n",
       "      <td>-0.013062</td>\n",
       "      <td>0.046742</td>\n",
       "      <td>0.000488</td>\n",
       "      <td>0.177300</td>\n",
       "      <td>-0.453382</td>\n",
       "      <td>0.000000</td>\n",
       "      <td>-1.801874</td>\n",
       "      <td>0.047277</td>\n",
       "      <td>...</td>\n",
       "      <td>0</td>\n",
       "      <td>0</td>\n",
       "      <td>2.0</td>\n",
       "      <td>2.0</td>\n",
       "      <td>4.0</td>\n",
       "      <td>10.0</td>\n",
       "      <td>0</td>\n",
       "      <td>0</td>\n",
       "      <td>0.0</td>\n",
       "      <td>0</td>\n",
       "    </tr>\n",
       "    <tr>\n",
       "      <th>3</th>\n",
       "      <td>12188929</td>\n",
       "      <td>-0.098122</td>\n",
       "      <td>-0.155398</td>\n",
       "      <td>-0.297302</td>\n",
       "      <td>-0.029725</td>\n",
       "      <td>1.666472</td>\n",
       "      <td>2.177981</td>\n",
       "      <td>0.000000</td>\n",
       "      <td>-1.500710</td>\n",
       "      <td>-0.530519</td>\n",
       "      <td>...</td>\n",
       "      <td>0</td>\n",
       "      <td>0</td>\n",
       "      <td>2.0</td>\n",
       "      <td>3.0</td>\n",
       "      <td>2.0</td>\n",
       "      <td>15.0</td>\n",
       "      <td>0</td>\n",
       "      <td>0</td>\n",
       "      <td>3.0</td>\n",
       "      <td>0</td>\n",
       "    </tr>\n",
       "    <tr>\n",
       "      <th>4</th>\n",
       "      <td>12133385</td>\n",
       "      <td>1.485641</td>\n",
       "      <td>1.860466</td>\n",
       "      <td>0.576791</td>\n",
       "      <td>-0.004662</td>\n",
       "      <td>-1.083788</td>\n",
       "      <td>-0.468909</td>\n",
       "      <td>0.156231</td>\n",
       "      <td>0.715961</td>\n",
       "      <td>-0.300847</td>\n",
       "      <td>...</td>\n",
       "      <td>0</td>\n",
       "      <td>0</td>\n",
       "      <td>4.0</td>\n",
       "      <td>1.0</td>\n",
       "      <td>3.0</td>\n",
       "      <td>10.0</td>\n",
       "      <td>0</td>\n",
       "      <td>0</td>\n",
       "      <td>1.0</td>\n",
       "      <td>0</td>\n",
       "    </tr>\n",
       "  </tbody>\n",
       "</table>\n",
       "<p>5 rows × 35 columns</p>\n",
       "</div>"
      ],
      "text/plain": [
       "         ID  Client_Income  Credit_Amount  Loan_Annuity  \\\n",
       "0  12142509      -0.890004       0.028786      0.485674   \n",
       "1  12138936       0.297819      -1.126327     -0.624694   \n",
       "2  12181264       0.099848      -0.013062      0.046742   \n",
       "3  12188929      -0.098122      -0.155398     -0.297302   \n",
       "4  12133385       1.485641       1.860466      0.576791   \n",
       "\n",
       "   Population_Region_Relative  Age_Days  Employed_Days  Registration_Days  \\\n",
       "0                    0.014954 -0.481376      -0.482901           0.331575   \n",
       "1                   -0.034613 -0.433714      -0.460492           0.825541   \n",
       "2                    0.000488  0.177300      -0.453382           0.000000   \n",
       "3                   -0.029725  1.666472       2.177981           0.000000   \n",
       "4                   -0.004662 -1.083788      -0.468909           0.156231   \n",
       "\n",
       "    ID_Days  Score_Source_2  ...  Homephone_Tag  Workphone_Working  \\\n",
       "0 -1.766603       -0.055119  ...              1                  0   \n",
       "1 -2.012146       -0.419991  ...              0                  1   \n",
       "2 -1.801874        0.047277  ...              0                  0   \n",
       "3 -1.500710       -0.530519  ...              0                  0   \n",
       "4  0.715961       -0.300847  ...              0                  0   \n",
       "\n",
       "   Client_Family_Members  Cleint_City_Rating  Application_Process_Day  \\\n",
       "0                    2.0                 2.0                      6.0   \n",
       "1                    2.0                 2.0                      3.0   \n",
       "2                    2.0                 2.0                      4.0   \n",
       "3                    2.0                 3.0                      2.0   \n",
       "4                    4.0                 1.0                      3.0   \n",
       "\n",
       "   Application_Process_Hour  Client_Permanent_Match_Tag  \\\n",
       "0                      17.0                           0   \n",
       "1                      10.0                           0   \n",
       "2                      10.0                           0   \n",
       "3                      15.0                           0   \n",
       "4                      10.0                           0   \n",
       "\n",
       "   Client_Contact_Work_Tag  Credit_Bureau  Default  \n",
       "0                        0            0.0        0  \n",
       "1                        0            0.0        0  \n",
       "2                        0            0.0        0  \n",
       "3                        0            3.0        0  \n",
       "4                        0            1.0        0  \n",
       "\n",
       "[5 rows x 35 columns]"
      ]
     },
     "execution_count": 89,
     "metadata": {},
     "output_type": "execute_result"
    }
   ],
   "source": [
    "All_train_data = pd.concat([train_num_data_ss,train_cat_data],1)\n",
    "All_train_data.head()"
   ]
  },
  {
   "cell_type": "code",
   "execution_count": 90,
   "metadata": {},
   "outputs": [
    {
     "data": {
      "text/html": [
       "<div>\n",
       "<style scoped>\n",
       "    .dataframe tbody tr th:only-of-type {\n",
       "        vertical-align: middle;\n",
       "    }\n",
       "\n",
       "    .dataframe tbody tr th {\n",
       "        vertical-align: top;\n",
       "    }\n",
       "\n",
       "    .dataframe thead th {\n",
       "        text-align: right;\n",
       "    }\n",
       "</style>\n",
       "<table border=\"1\" class=\"dataframe\">\n",
       "  <thead>\n",
       "    <tr style=\"text-align: right;\">\n",
       "      <th></th>\n",
       "      <th>ID</th>\n",
       "      <th>Client_Income</th>\n",
       "      <th>Credit_Amount</th>\n",
       "      <th>Loan_Annuity</th>\n",
       "      <th>Population_Region_Relative</th>\n",
       "      <th>Age_Days</th>\n",
       "      <th>Employed_Days</th>\n",
       "      <th>Registration_Days</th>\n",
       "      <th>ID_Days</th>\n",
       "      <th>Score_Source_2</th>\n",
       "      <th>...</th>\n",
       "      <th>Mobile_Tag</th>\n",
       "      <th>Homephone_Tag</th>\n",
       "      <th>Workphone_Working</th>\n",
       "      <th>Client_Family_Members</th>\n",
       "      <th>Cleint_City_Rating</th>\n",
       "      <th>Application_Process_Day</th>\n",
       "      <th>Application_Process_Hour</th>\n",
       "      <th>Client_Permanent_Match_Tag</th>\n",
       "      <th>Client_Contact_Work_Tag</th>\n",
       "      <th>Credit_Bureau</th>\n",
       "    </tr>\n",
       "  </thead>\n",
       "  <tbody>\n",
       "    <tr>\n",
       "      <th>0</th>\n",
       "      <td>12202227</td>\n",
       "      <td>-0.466241</td>\n",
       "      <td>1.327768</td>\n",
       "      <td>1.251334</td>\n",
       "      <td>-0.009246</td>\n",
       "      <td>0.932802</td>\n",
       "      <td>-0.476213</td>\n",
       "      <td>-0.769768</td>\n",
       "      <td>0.214337</td>\n",
       "      <td>0.609404</td>\n",
       "      <td>...</td>\n",
       "      <td>1</td>\n",
       "      <td>0</td>\n",
       "      <td>0</td>\n",
       "      <td>2.0</td>\n",
       "      <td>2.0</td>\n",
       "      <td>4.0</td>\n",
       "      <td>16.0</td>\n",
       "      <td>0</td>\n",
       "      <td>0</td>\n",
       "      <td>2.0</td>\n",
       "    </tr>\n",
       "    <tr>\n",
       "      <th>1</th>\n",
       "      <td>12279381</td>\n",
       "      <td>-0.279459</td>\n",
       "      <td>-0.257188</td>\n",
       "      <td>0.385668</td>\n",
       "      <td>-0.023370</td>\n",
       "      <td>-0.663915</td>\n",
       "      <td>-0.490544</td>\n",
       "      <td>0.571504</td>\n",
       "      <td>0.585651</td>\n",
       "      <td>-0.437897</td>\n",
       "      <td>...</td>\n",
       "      <td>1</td>\n",
       "      <td>1</td>\n",
       "      <td>0</td>\n",
       "      <td>5.0</td>\n",
       "      <td>3.0</td>\n",
       "      <td>3.0</td>\n",
       "      <td>18.0</td>\n",
       "      <td>1</td>\n",
       "      <td>0</td>\n",
       "      <td>0.0</td>\n",
       "    </tr>\n",
       "    <tr>\n",
       "      <th>2</th>\n",
       "      <td>12222714</td>\n",
       "      <td>1.775141</td>\n",
       "      <td>0.191110</td>\n",
       "      <td>0.472649</td>\n",
       "      <td>0.012857</td>\n",
       "      <td>-0.025740</td>\n",
       "      <td>-0.484963</td>\n",
       "      <td>-1.155088</td>\n",
       "      <td>-0.479415</td>\n",
       "      <td>0.423901</td>\n",
       "      <td>...</td>\n",
       "      <td>1</td>\n",
       "      <td>0</td>\n",
       "      <td>1</td>\n",
       "      <td>2.0</td>\n",
       "      <td>1.0</td>\n",
       "      <td>2.0</td>\n",
       "      <td>19.0</td>\n",
       "      <td>0</td>\n",
       "      <td>0</td>\n",
       "      <td>0.0</td>\n",
       "    </tr>\n",
       "    <tr>\n",
       "      <th>3</th>\n",
       "      <td>12265215</td>\n",
       "      <td>0.280886</td>\n",
       "      <td>-0.229465</td>\n",
       "      <td>0.783932</td>\n",
       "      <td>-0.016769</td>\n",
       "      <td>-0.097631</td>\n",
       "      <td>-0.483575</td>\n",
       "      <td>-0.004027</td>\n",
       "      <td>2.117065</td>\n",
       "      <td>-0.721427</td>\n",
       "      <td>...</td>\n",
       "      <td>1</td>\n",
       "      <td>1</td>\n",
       "      <td>1</td>\n",
       "      <td>1.0</td>\n",
       "      <td>2.0</td>\n",
       "      <td>6.0</td>\n",
       "      <td>20.0</td>\n",
       "      <td>1</td>\n",
       "      <td>1</td>\n",
       "      <td>4.0</td>\n",
       "    </tr>\n",
       "    <tr>\n",
       "      <th>4</th>\n",
       "      <td>12203970</td>\n",
       "      <td>-0.279459</td>\n",
       "      <td>-0.412501</td>\n",
       "      <td>-0.135580</td>\n",
       "      <td>-0.026449</td>\n",
       "      <td>-0.056451</td>\n",
       "      <td>-0.486736</td>\n",
       "      <td>0.140937</td>\n",
       "      <td>0.417983</td>\n",
       "      <td>0.129327</td>\n",
       "      <td>...</td>\n",
       "      <td>1</td>\n",
       "      <td>0</td>\n",
       "      <td>0</td>\n",
       "      <td>2.0</td>\n",
       "      <td>2.0</td>\n",
       "      <td>1.0</td>\n",
       "      <td>13.0</td>\n",
       "      <td>0</td>\n",
       "      <td>0</td>\n",
       "      <td>1.0</td>\n",
       "    </tr>\n",
       "  </tbody>\n",
       "</table>\n",
       "<p>5 rows × 34 columns</p>\n",
       "</div>"
      ],
      "text/plain": [
       "         ID  Client_Income  Credit_Amount  Loan_Annuity  \\\n",
       "0  12202227      -0.466241       1.327768      1.251334   \n",
       "1  12279381      -0.279459      -0.257188      0.385668   \n",
       "2  12222714       1.775141       0.191110      0.472649   \n",
       "3  12265215       0.280886      -0.229465      0.783932   \n",
       "4  12203970      -0.279459      -0.412501     -0.135580   \n",
       "\n",
       "   Population_Region_Relative  Age_Days  Employed_Days  Registration_Days  \\\n",
       "0                   -0.009246  0.932802      -0.476213          -0.769768   \n",
       "1                   -0.023370 -0.663915      -0.490544           0.571504   \n",
       "2                    0.012857 -0.025740      -0.484963          -1.155088   \n",
       "3                   -0.016769 -0.097631      -0.483575          -0.004027   \n",
       "4                   -0.026449 -0.056451      -0.486736           0.140937   \n",
       "\n",
       "    ID_Days  Score_Source_2  ...  Mobile_Tag  Homephone_Tag  \\\n",
       "0  0.214337        0.609404  ...           1              0   \n",
       "1  0.585651       -0.437897  ...           1              1   \n",
       "2 -0.479415        0.423901  ...           1              0   \n",
       "3  2.117065       -0.721427  ...           1              1   \n",
       "4  0.417983        0.129327  ...           1              0   \n",
       "\n",
       "   Workphone_Working  Client_Family_Members  Cleint_City_Rating  \\\n",
       "0                  0                    2.0                 2.0   \n",
       "1                  0                    5.0                 3.0   \n",
       "2                  1                    2.0                 1.0   \n",
       "3                  1                    1.0                 2.0   \n",
       "4                  0                    2.0                 2.0   \n",
       "\n",
       "   Application_Process_Day  Application_Process_Hour  \\\n",
       "0                      4.0                      16.0   \n",
       "1                      3.0                      18.0   \n",
       "2                      2.0                      19.0   \n",
       "3                      6.0                      20.0   \n",
       "4                      1.0                      13.0   \n",
       "\n",
       "   Client_Permanent_Match_Tag  Client_Contact_Work_Tag  Credit_Bureau  \n",
       "0                           0                        0            2.0  \n",
       "1                           1                        0            0.0  \n",
       "2                           0                        0            0.0  \n",
       "3                           1                        1            4.0  \n",
       "4                           0                        0            1.0  \n",
       "\n",
       "[5 rows x 34 columns]"
      ]
     },
     "execution_count": 90,
     "metadata": {},
     "output_type": "execute_result"
    }
   ],
   "source": [
    "All_test_data = pd.concat([test_num_data_ss,test_cat_data],1)\n",
    "All_test_data.head()"
   ]
  },
  {
   "cell_type": "code",
   "execution_count": 91,
   "metadata": {},
   "outputs": [
    {
     "data": {
      "text/plain": [
       "0    112011\n",
       "1      9845\n",
       "Name: Default, dtype: int64"
      ]
     },
     "execution_count": 91,
     "metadata": {},
     "output_type": "execute_result"
    }
   ],
   "source": [
    "All_train_data.Default.value_counts()"
   ]
  },
  {
   "cell_type": "code",
   "execution_count": 92,
   "metadata": {},
   "outputs": [],
   "source": [
    "# there is a huge class imbalance in data output, so, we have to apply class imbalance technique to take over this issue\n",
    "#We will not apply undersampling as we do not want to lose any valuable data\n",
    "#we will apply oversampling technique"
   ]
  },
  {
   "cell_type": "code",
   "execution_count": 93,
   "metadata": {},
   "outputs": [],
   "source": [
    "class_0 = All_train_data[All_train_data['Default']==0]\n",
    "class_1 = All_train_data[All_train_data['Default']==1]"
   ]
  },
  {
   "cell_type": "code",
   "execution_count": 94,
   "metadata": {},
   "outputs": [
    {
     "data": {
      "text/plain": [
       "0    112011\n",
       "1      9845\n",
       "Name: Default, dtype: int64"
      ]
     },
     "execution_count": 94,
     "metadata": {},
     "output_type": "execute_result"
    }
   ],
   "source": [
    "class_count_0 , class_count_1 = All_train_data['Default'].value_counts()\n",
    "All_train_data['Default'].value_counts()"
   ]
  },
  {
   "cell_type": "code",
   "execution_count": 95,
   "metadata": {},
   "outputs": [],
   "source": [
    "class_1_over = class_1.sample(class_count_0 , replace=True,random_state=2)\n",
    "test_over = pd.concat((class_0 , class_1_over) , axis=0)\n",
    "test_over = test_over.sample(frac=1)"
   ]
  },
  {
   "cell_type": "code",
   "execution_count": 96,
   "metadata": {},
   "outputs": [],
   "source": [
    "X = test_over.drop('Default',1)\n",
    "y = test_over['Default']"
   ]
  },
  {
   "cell_type": "code",
   "execution_count": 97,
   "metadata": {},
   "outputs": [
    {
     "name": "stdout",
     "output_type": "stream",
     "text": [
      "(224022, 34) (224022,)\n"
     ]
    }
   ],
   "source": [
    "print(X.shape , y.shape)"
   ]
  },
  {
   "cell_type": "code",
   "execution_count": 98,
   "metadata": {},
   "outputs": [],
   "source": [
    "# Implementing Classification Models"
   ]
  },
  {
   "cell_type": "code",
   "execution_count": 99,
   "metadata": {},
   "outputs": [],
   "source": [
    "# Logistic Regression"
   ]
  },
  {
   "cell_type": "code",
   "execution_count": 100,
   "metadata": {},
   "outputs": [],
   "source": [
    "from sklearn.metrics import f1_score"
   ]
  },
  {
   "cell_type": "code",
   "execution_count": 101,
   "metadata": {},
   "outputs": [
    {
     "data": {
      "text/plain": [
       "0.6666666666666666"
      ]
     },
     "execution_count": 101,
     "metadata": {},
     "output_type": "execute_result"
    }
   ],
   "source": [
    "from sklearn.linear_model import LogisticRegression\n",
    "LR = LogisticRegression()\n",
    "LR.fit(X,y)\n",
    "ytrain_pred = LR.predict(X)\n",
    "test_sample = All_test_data\n",
    "ypred_LR = LR.predict(test_sample)\n",
    "F1_score_LR = f1_score(y,ytrain_pred)\n",
    "F1_score_LR"
   ]
  },
  {
   "cell_type": "code",
   "execution_count": 102,
   "metadata": {},
   "outputs": [
    {
     "data": {
      "text/html": [
       "<div>\n",
       "<style scoped>\n",
       "    .dataframe tbody tr th:only-of-type {\n",
       "        vertical-align: middle;\n",
       "    }\n",
       "\n",
       "    .dataframe tbody tr th {\n",
       "        vertical-align: top;\n",
       "    }\n",
       "\n",
       "    .dataframe thead th {\n",
       "        text-align: right;\n",
       "    }\n",
       "</style>\n",
       "<table border=\"1\" class=\"dataframe\">\n",
       "  <thead>\n",
       "    <tr style=\"text-align: right;\">\n",
       "      <th></th>\n",
       "      <th>ID</th>\n",
       "      <th>Default_Predict</th>\n",
       "    </tr>\n",
       "  </thead>\n",
       "  <tbody>\n",
       "    <tr>\n",
       "      <th>0</th>\n",
       "      <td>12202227</td>\n",
       "      <td>1</td>\n",
       "    </tr>\n",
       "    <tr>\n",
       "      <th>1</th>\n",
       "      <td>12279381</td>\n",
       "      <td>1</td>\n",
       "    </tr>\n",
       "    <tr>\n",
       "      <th>2</th>\n",
       "      <td>12222714</td>\n",
       "      <td>1</td>\n",
       "    </tr>\n",
       "    <tr>\n",
       "      <th>3</th>\n",
       "      <td>12265215</td>\n",
       "      <td>1</td>\n",
       "    </tr>\n",
       "    <tr>\n",
       "      <th>4</th>\n",
       "      <td>12203970</td>\n",
       "      <td>1</td>\n",
       "    </tr>\n",
       "  </tbody>\n",
       "</table>\n",
       "</div>"
      ],
      "text/plain": [
       "         ID  Default_Predict\n",
       "0  12202227                1\n",
       "1  12279381                1\n",
       "2  12222714                1\n",
       "3  12265215                1\n",
       "4  12203970                1"
      ]
     },
     "execution_count": 102,
     "metadata": {},
     "output_type": "execute_result"
    }
   ],
   "source": [
    "LR_predict = pd.DataFrame()\n",
    "LR_predict['ID'] = test_sample.ID\n",
    "LR_predict['Default_Predict'] = ypred_LR\n",
    "LR_predict.to_csv('LR.csv')\n",
    "LR_predict.head(5)"
   ]
  },
  {
   "cell_type": "code",
   "execution_count": 103,
   "metadata": {},
   "outputs": [
    {
     "name": "stdout",
     "output_type": "stream",
     "text": [
      "0.6004 0.3647698076481883\n"
     ]
    }
   ],
   "source": [
    "from sklearn.model_selection import KFold , cross_val_score\n",
    "kf = KFold(shuffle=True , n_splits=5 , random_state=0)\n",
    "score = cross_val_score(LR , X,y , cv=kf , scoring='f1')\n",
    "bias_lr = np.mean(1-score)\n",
    "variance_lr = np.std(score , ddof=1)\n",
    "print(round(bias_lr,4) , variance_lr)"
   ]
  },
  {
   "cell_type": "code",
   "execution_count": 104,
   "metadata": {},
   "outputs": [],
   "source": [
    "# Naive Bayes"
   ]
  },
  {
   "cell_type": "code",
   "execution_count": 105,
   "metadata": {},
   "outputs": [
    {
     "data": {
      "text/plain": [
       "0.6645771080859169"
      ]
     },
     "execution_count": 105,
     "metadata": {},
     "output_type": "execute_result"
    }
   ],
   "source": [
    "from sklearn.naive_bayes import GaussianNB\n",
    "NB = GaussianNB()\n",
    "NB.fit(X, y)\n",
    "ytrain_pred = NB.predict(X)\n",
    "test_sample = All_test_data\n",
    "ypred_NB = NB.predict(test_sample)\n",
    "F1_score_NB = f1_score(y,ytrain_pred)\n",
    "F1_score_NB"
   ]
  },
  {
   "cell_type": "code",
   "execution_count": 106,
   "metadata": {},
   "outputs": [
    {
     "data": {
      "text/html": [
       "<div>\n",
       "<style scoped>\n",
       "    .dataframe tbody tr th:only-of-type {\n",
       "        vertical-align: middle;\n",
       "    }\n",
       "\n",
       "    .dataframe tbody tr th {\n",
       "        vertical-align: top;\n",
       "    }\n",
       "\n",
       "    .dataframe thead th {\n",
       "        text-align: right;\n",
       "    }\n",
       "</style>\n",
       "<table border=\"1\" class=\"dataframe\">\n",
       "  <thead>\n",
       "    <tr style=\"text-align: right;\">\n",
       "      <th></th>\n",
       "      <th>ID</th>\n",
       "      <th>Default_Predict</th>\n",
       "    </tr>\n",
       "  </thead>\n",
       "  <tbody>\n",
       "    <tr>\n",
       "      <th>0</th>\n",
       "      <td>12202227</td>\n",
       "      <td>0</td>\n",
       "    </tr>\n",
       "    <tr>\n",
       "      <th>1</th>\n",
       "      <td>12279381</td>\n",
       "      <td>1</td>\n",
       "    </tr>\n",
       "    <tr>\n",
       "      <th>2</th>\n",
       "      <td>12222714</td>\n",
       "      <td>0</td>\n",
       "    </tr>\n",
       "    <tr>\n",
       "      <th>3</th>\n",
       "      <td>12265215</td>\n",
       "      <td>0</td>\n",
       "    </tr>\n",
       "    <tr>\n",
       "      <th>4</th>\n",
       "      <td>12203970</td>\n",
       "      <td>1</td>\n",
       "    </tr>\n",
       "  </tbody>\n",
       "</table>\n",
       "</div>"
      ],
      "text/plain": [
       "         ID  Default_Predict\n",
       "0  12202227                0\n",
       "1  12279381                1\n",
       "2  12222714                0\n",
       "3  12265215                0\n",
       "4  12203970                1"
      ]
     },
     "execution_count": 106,
     "metadata": {},
     "output_type": "execute_result"
    }
   ],
   "source": [
    "NB_predict = pd.DataFrame()\n",
    "NB_predict['ID'] = test_sample.ID\n",
    "NB_predict['Default_Predict'] = ypred_NB\n",
    "NB_predict.to_csv('NB.csv')\n",
    "NB_predict.head(5)"
   ]
  },
  {
   "cell_type": "code",
   "execution_count": 107,
   "metadata": {},
   "outputs": [
    {
     "name": "stdout",
     "output_type": "stream",
     "text": [
      "0.3458 0.03439486391711012\n"
     ]
    }
   ],
   "source": [
    "score = cross_val_score(NB , X,y , cv=kf , scoring='f1')\n",
    "bias_nb = np.mean(1-score)\n",
    "variance_nb = np.std(score , ddof=1)\n",
    "print(round(bias_nb,4) , variance_nb)"
   ]
  },
  {
   "cell_type": "code",
   "execution_count": 108,
   "metadata": {},
   "outputs": [],
   "source": [
    "# KNN"
   ]
  },
  {
   "cell_type": "code",
   "execution_count": 109,
   "metadata": {},
   "outputs": [
    {
     "data": {
      "text/plain": [
       "0.9277471730936503"
      ]
     },
     "execution_count": 109,
     "metadata": {},
     "output_type": "execute_result"
    }
   ],
   "source": [
    "from sklearn.neighbors import KNeighborsClassifier\n",
    "knn = KNeighborsClassifier()\n",
    "knn.fit(X, y)\n",
    "ytrain_pred = knn.predict(X)\n",
    "test_sample = All_test_data\n",
    "ypred_knn = knn.predict(test_sample)\n",
    "F1_score_knn = f1_score(y,ytrain_pred)\n",
    "F1_score_knn"
   ]
  },
  {
   "cell_type": "code",
   "execution_count": 110,
   "metadata": {},
   "outputs": [
    {
     "data": {
      "text/html": [
       "<div>\n",
       "<style scoped>\n",
       "    .dataframe tbody tr th:only-of-type {\n",
       "        vertical-align: middle;\n",
       "    }\n",
       "\n",
       "    .dataframe tbody tr th {\n",
       "        vertical-align: top;\n",
       "    }\n",
       "\n",
       "    .dataframe thead th {\n",
       "        text-align: right;\n",
       "    }\n",
       "</style>\n",
       "<table border=\"1\" class=\"dataframe\">\n",
       "  <thead>\n",
       "    <tr style=\"text-align: right;\">\n",
       "      <th></th>\n",
       "      <th>ID</th>\n",
       "      <th>Default_Predict</th>\n",
       "    </tr>\n",
       "  </thead>\n",
       "  <tbody>\n",
       "    <tr>\n",
       "      <th>0</th>\n",
       "      <td>12202227</td>\n",
       "      <td>0</td>\n",
       "    </tr>\n",
       "    <tr>\n",
       "      <th>1</th>\n",
       "      <td>12279381</td>\n",
       "      <td>0</td>\n",
       "    </tr>\n",
       "    <tr>\n",
       "      <th>2</th>\n",
       "      <td>12222714</td>\n",
       "      <td>0</td>\n",
       "    </tr>\n",
       "    <tr>\n",
       "      <th>3</th>\n",
       "      <td>12265215</td>\n",
       "      <td>0</td>\n",
       "    </tr>\n",
       "    <tr>\n",
       "      <th>4</th>\n",
       "      <td>12203970</td>\n",
       "      <td>0</td>\n",
       "    </tr>\n",
       "  </tbody>\n",
       "</table>\n",
       "</div>"
      ],
      "text/plain": [
       "         ID  Default_Predict\n",
       "0  12202227                0\n",
       "1  12279381                0\n",
       "2  12222714                0\n",
       "3  12265215                0\n",
       "4  12203970                0"
      ]
     },
     "execution_count": 110,
     "metadata": {},
     "output_type": "execute_result"
    }
   ],
   "source": [
    "KNN_predict = pd.DataFrame()\n",
    "KNN_predict['ID'] = test_sample.ID\n",
    "KNN_predict['Default_Predict'] = ypred_knn\n",
    "KNN_predict.to_csv('KNN.csv')\n",
    "KNN_predict.head(5)"
   ]
  },
  {
   "cell_type": "code",
   "execution_count": 111,
   "metadata": {},
   "outputs": [
    {
     "name": "stdout",
     "output_type": "stream",
     "text": [
      "0.1204 0.0005208744614159097\n"
     ]
    }
   ],
   "source": [
    "score = cross_val_score(knn , X,y , cv=kf , scoring='f1')\n",
    "bias_knn = np.mean(1-score)\n",
    "variance_knn = np.std(score , ddof=1)\n",
    "print(round(bias_knn,4) , variance_knn)"
   ]
  },
  {
   "cell_type": "code",
   "execution_count": 113,
   "metadata": {},
   "outputs": [],
   "source": [
    "# # Tuned KNN\n",
    "# from sklearn.model_selection import GridSearchCV\n",
    "# params = {'n_neighbors':np.arange(1,50) , 'weights':['uniform','distance']}\n",
    "# GS = GridSearchCV(knn , params ,cv=10 , scoring='f1')\n",
    "# GS.fit(X , y)"
   ]
  },
  {
   "cell_type": "code",
   "execution_count": 114,
   "metadata": {},
   "outputs": [],
   "source": [
    "# GS.best_params_"
   ]
  },
  {
   "cell_type": "code",
   "execution_count": 115,
   "metadata": {},
   "outputs": [],
   "source": [
    "# KNN_tuned = KNeighborsClassifier(n_neighbors=86 , weights='distance' )\n",
    "# KNN_tuned.fit(X, y)\n",
    "# ytrain_pred = KNN_tuned.predict(X)\n",
    "# test_sample = All_test_data\n",
    "# ypred_knn_tunned = KNN_tuned.predict(test_sample)\n",
    "# F1_score_knn_tunned = f1_score(y,ytrain_pred)\n",
    "# F1_score_knn_tunned"
   ]
  },
  {
   "cell_type": "code",
   "execution_count": 116,
   "metadata": {},
   "outputs": [],
   "source": [
    "# score = cross_val_score(KNN_tuned , X,y , cv=kf , scoring='f1')\n",
    "# bias_knn_tunned = np.mean(1-score)\n",
    "# variance_knn_tunned = np.std(score , ddof=1)\n",
    "# print(round(bias_knn_tunned,4) , variance_knn_tunned)"
   ]
  },
  {
   "cell_type": "code",
   "execution_count": 117,
   "metadata": {},
   "outputs": [
    {
     "data": {
      "text/plain": [
       "1.0"
      ]
     },
     "execution_count": 117,
     "metadata": {},
     "output_type": "execute_result"
    }
   ],
   "source": [
    "# Decision Tree\n",
    "from sklearn.metrics import f1_score\n",
    "from sklearn.tree import DecisionTreeClassifier\n",
    "DT = DecisionTreeClassifier(random_state=0)\n",
    "DT.fit(X, y)\n",
    "ytrain_pred = DT.predict(X)\n",
    "test_sample = All_test_data\n",
    "ypred_DT = DT.predict(test_sample)\n",
    "F1_score_DT = f1_score(y,ytrain_pred)\n",
    "F1_score_DT"
   ]
  },
  {
   "cell_type": "code",
   "execution_count": 118,
   "metadata": {},
   "outputs": [
    {
     "data": {
      "text/html": [
       "<div>\n",
       "<style scoped>\n",
       "    .dataframe tbody tr th:only-of-type {\n",
       "        vertical-align: middle;\n",
       "    }\n",
       "\n",
       "    .dataframe tbody tr th {\n",
       "        vertical-align: top;\n",
       "    }\n",
       "\n",
       "    .dataframe thead th {\n",
       "        text-align: right;\n",
       "    }\n",
       "</style>\n",
       "<table border=\"1\" class=\"dataframe\">\n",
       "  <thead>\n",
       "    <tr style=\"text-align: right;\">\n",
       "      <th></th>\n",
       "      <th>ID</th>\n",
       "      <th>Default_Predict</th>\n",
       "    </tr>\n",
       "  </thead>\n",
       "  <tbody>\n",
       "    <tr>\n",
       "      <th>0</th>\n",
       "      <td>12202227</td>\n",
       "      <td>0</td>\n",
       "    </tr>\n",
       "    <tr>\n",
       "      <th>1</th>\n",
       "      <td>12279381</td>\n",
       "      <td>0</td>\n",
       "    </tr>\n",
       "    <tr>\n",
       "      <th>2</th>\n",
       "      <td>12222714</td>\n",
       "      <td>0</td>\n",
       "    </tr>\n",
       "    <tr>\n",
       "      <th>3</th>\n",
       "      <td>12265215</td>\n",
       "      <td>0</td>\n",
       "    </tr>\n",
       "    <tr>\n",
       "      <th>4</th>\n",
       "      <td>12203970</td>\n",
       "      <td>0</td>\n",
       "    </tr>\n",
       "  </tbody>\n",
       "</table>\n",
       "</div>"
      ],
      "text/plain": [
       "         ID  Default_Predict\n",
       "0  12202227                0\n",
       "1  12279381                0\n",
       "2  12222714                0\n",
       "3  12265215                0\n",
       "4  12203970                0"
      ]
     },
     "execution_count": 118,
     "metadata": {},
     "output_type": "execute_result"
    }
   ],
   "source": [
    "DT_predict = pd.DataFrame()\n",
    "DT_predict['ID'] = test_sample.ID\n",
    "DT_predict['Default_Predict'] = ypred_DT\n",
    "DT_predict.to_csv('DT.csv')\n",
    "DT_predict.head(5)"
   ]
  },
  {
   "cell_type": "code",
   "execution_count": 119,
   "metadata": {},
   "outputs": [
    {
     "name": "stdout",
     "output_type": "stream",
     "text": [
      "0.039739955147383065 0.0017388374714247619\n"
     ]
    }
   ],
   "source": [
    "from sklearn.model_selection import KFold , cross_val_score\n",
    "kf = KFold(shuffle=True , n_splits=5 , random_state=0)\n",
    "score = cross_val_score(DT , X, y, cv=kf , scoring='f1')\n",
    "bias_dt = np.mean(1-score)\n",
    "variance_dt = np.std(score , ddof=1)\n",
    "print(bias_dt , variance_dt)"
   ]
  },
  {
   "cell_type": "code",
   "execution_count": 120,
   "metadata": {},
   "outputs": [],
   "source": [
    "# # Tunned Decision Tree\n",
    "# from sklearn.model_selection import GridSearchCV\n",
    "# params = {'criterion':['gini','entropy'],'max_depth':np.arange(1,50)}\n",
    "# Grid = GridSearchCV(DT , params , cv=10 , scoring='f1')\n",
    "# Grid.fit(X,y)"
   ]
  },
  {
   "cell_type": "code",
   "execution_count": 121,
   "metadata": {},
   "outputs": [],
   "source": [
    "# Grid.best_params_"
   ]
  },
  {
   "cell_type": "code",
   "execution_count": 122,
   "metadata": {},
   "outputs": [],
   "source": [
    "# DT_tunned = DecisionTreeClassifier(max_depth=31 , criterion='gini')\n",
    "# DT_tunned.fit(X , y)\n",
    "# ytrain_pred = DT_tunned.predict(X)\n",
    "# test_sample = All_test_data\n",
    "# ypred_DT_tunned = DT_tunned.predict(test_sample)\n",
    "# F1_score_DT_tunned = f1_score(y,ytrain_pred)\n",
    "# F1_score_DT_tunned"
   ]
  },
  {
   "cell_type": "code",
   "execution_count": 123,
   "metadata": {},
   "outputs": [],
   "source": [
    "# score = cross_val_score(DT_tunned , X, y, cv=kf , scoring='f1')\n",
    "# bias_dt_tunned = np.mean(1-score)\n",
    "# variance_dt_tunned = np.std(score , ddof=1)\n",
    "# print(bias_dt_tunned , variance_dt_tunned)"
   ]
  },
  {
   "cell_type": "code",
   "execution_count": 124,
   "metadata": {},
   "outputs": [
    {
     "data": {
      "text/plain": [
       "1.0"
      ]
     },
     "execution_count": 124,
     "metadata": {},
     "output_type": "execute_result"
    }
   ],
   "source": [
    "# Random Forest\n",
    "from sklearn.metrics import f1_score\n",
    "from sklearn.ensemble import RandomForestClassifier \n",
    "RF = RandomForestClassifier(random_state=0)\n",
    "RF.fit(X, y)\n",
    "ytrain_pred = RF.predict(X)\n",
    "test_sample = All_test_data\n",
    "ypred_RF = RF.predict(test_sample)\n",
    "F1_score_RF = f1_score(y,ytrain_pred)\n",
    "F1_score_RF"
   ]
  },
  {
   "cell_type": "code",
   "execution_count": 125,
   "metadata": {},
   "outputs": [
    {
     "data": {
      "text/html": [
       "<div>\n",
       "<style scoped>\n",
       "    .dataframe tbody tr th:only-of-type {\n",
       "        vertical-align: middle;\n",
       "    }\n",
       "\n",
       "    .dataframe tbody tr th {\n",
       "        vertical-align: top;\n",
       "    }\n",
       "\n",
       "    .dataframe thead th {\n",
       "        text-align: right;\n",
       "    }\n",
       "</style>\n",
       "<table border=\"1\" class=\"dataframe\">\n",
       "  <thead>\n",
       "    <tr style=\"text-align: right;\">\n",
       "      <th></th>\n",
       "      <th>ID</th>\n",
       "      <th>Default_Predict</th>\n",
       "    </tr>\n",
       "  </thead>\n",
       "  <tbody>\n",
       "    <tr>\n",
       "      <th>0</th>\n",
       "      <td>12202227</td>\n",
       "      <td>0</td>\n",
       "    </tr>\n",
       "    <tr>\n",
       "      <th>1</th>\n",
       "      <td>12279381</td>\n",
       "      <td>0</td>\n",
       "    </tr>\n",
       "    <tr>\n",
       "      <th>2</th>\n",
       "      <td>12222714</td>\n",
       "      <td>0</td>\n",
       "    </tr>\n",
       "    <tr>\n",
       "      <th>3</th>\n",
       "      <td>12265215</td>\n",
       "      <td>0</td>\n",
       "    </tr>\n",
       "    <tr>\n",
       "      <th>4</th>\n",
       "      <td>12203970</td>\n",
       "      <td>0</td>\n",
       "    </tr>\n",
       "  </tbody>\n",
       "</table>\n",
       "</div>"
      ],
      "text/plain": [
       "         ID  Default_Predict\n",
       "0  12202227                0\n",
       "1  12279381                0\n",
       "2  12222714                0\n",
       "3  12265215                0\n",
       "4  12203970                0"
      ]
     },
     "execution_count": 125,
     "metadata": {},
     "output_type": "execute_result"
    }
   ],
   "source": [
    "RF_predict = pd.DataFrame()\n",
    "RF_predict['ID'] = test_sample.ID\n",
    "RF_predict['Default_Predict'] = ypred_RF\n",
    "RF_predict.to_csv('RF.csv')\n",
    "RF_predict.head(5)"
   ]
  },
  {
   "cell_type": "code",
   "execution_count": 126,
   "metadata": {},
   "outputs": [
    {
     "name": "stdout",
     "output_type": "stream",
     "text": [
      "0.0011146453726834649 0.00024292584393410203\n"
     ]
    }
   ],
   "source": [
    "from sklearn.model_selection import KFold , cross_val_score\n",
    "kf = KFold(shuffle=True , n_splits=5 , random_state=0)\n",
    "score = cross_val_score(RF , X, y, cv=kf , scoring='f1')\n",
    "bias_rf = np.mean(1-score)\n",
    "variance_rf = np.std(score , ddof=1)\n",
    "print(bias_rf , variance_rf)"
   ]
  },
  {
   "cell_type": "code",
   "execution_count": 127,
   "metadata": {},
   "outputs": [],
   "source": [
    "# # Tunning Random Forest\n",
    "# from sklearn.model_selection import GridSearchCV\n",
    "# params = {'criterion':['gini','entropy'],'max_depth':np.arange(1,25)}\n",
    "# Grid = GridSearchCV(RF , params , cv=10 , scoring='f1')\n",
    "# Grid.fit(X,y)"
   ]
  },
  {
   "cell_type": "code",
   "execution_count": 128,
   "metadata": {},
   "outputs": [],
   "source": [
    "# Grid.best_params_"
   ]
  },
  {
   "cell_type": "code",
   "execution_count": 129,
   "metadata": {},
   "outputs": [],
   "source": [
    "# RF_tunned = RandomForestClassifier(max_depth=31 , criterion='gini')\n",
    "# RF_tunned.fit(X , y)\n",
    "# ytrain_pred = RF_tunned.predict(X)\n",
    "# test_sample = All_test_data\n",
    "# ypred_RF_tunned = RF_tunned.predict(test_sample)\n",
    "# F1_score_RF_tunned = f1_score(y,ytrain_pred)\n",
    "# F1_score_RF_tunned"
   ]
  },
  {
   "cell_type": "code",
   "execution_count": null,
   "metadata": {},
   "outputs": [],
   "source": []
  }
 ],
 "metadata": {
  "kernelspec": {
   "display_name": "Python 3",
   "language": "python",
   "name": "python3"
  },
  "language_info": {
   "codemirror_mode": {
    "name": "ipython",
    "version": 3
   },
   "file_extension": ".py",
   "mimetype": "text/x-python",
   "name": "python",
   "nbconvert_exporter": "python",
   "pygments_lexer": "ipython3",
   "version": "3.7.6"
  }
 },
 "nbformat": 4,
 "nbformat_minor": 4
}
